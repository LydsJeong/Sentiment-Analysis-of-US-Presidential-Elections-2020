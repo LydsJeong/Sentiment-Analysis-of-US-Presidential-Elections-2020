{
 "cells": [
  {
   "cell_type": "markdown",
   "metadata": {
    "id": "8njjP_4nVTYm"
   },
   "source": [
    "# Sentiment Analysis of US Presidential Elections 2020"
   ]
  },
  {
   "cell_type": "markdown",
   "metadata": {
    "id": "xz_SG4PMVTYm"
   },
   "source": [
    "Author: Lydia Jeong <br>\n",
    "November 25, 2020"
   ]
  },
  {
   "cell_type": "markdown",
   "metadata": {
    "id": "6MQO3DioVTYn"
   },
   "source": [
    "Sentiment Analysis is a branch of Natural Language Processing (NLP) that allows us to determine algorithmically whether a statement or document is “positive” or “negative”.\n",
    "Sentiment analysis is a technology of increasing importance in the modern society as it allows\n",
    "individuals and organizations to detect trends in public opinion by analyzing social media\n",
    "content. Keeping abreast of socio-political developments is especially important during periods\n",
    "of policy shifts such as election years, when both electoral candidates and companies can benefit\n",
    "from sentiment analysis by making appropriate changes to their campaigning and business\n",
    "strategies respectively.\n",
    "The purpose of this assignment is to compute the sentiment of text information - in our case, tweets posted recently on US Presidential Elections 2020 - and answer the research question: ***“What can public opinion on Twitter tell us about the US political landscape in 2020?”*** The goal is to essentially use sentiment analysis on Twitter data to get insight into the 2020 American Elections."
   ]
  },
  {
   "cell_type": "markdown",
   "metadata": {
    "id": "4oWEfutRVTYo"
   },
   "source": [
    "Two datasets are used in this project. The sentiment_analysis.csv file contains generic tweets that includes the following columns. The Sentiment has already been analyzed and indicated in the \"sentiment\" column. <br>\n",
    "\n",
    "|   | column | description                                         |\n",
    "|---|-------|-----------------------------------------------------------------------------|\n",
    "| 0 | ID    | Tweet ID                                                                    |\n",
    "| 1 | text  | the text of the tweet                                                       |\n",
    "| 2 | label | the polarity of each tweet (0 = negative sentiment, 1 = positive sentiment) |"
   ]
  },
  {
   "cell_type": "markdown",
   "metadata": {
    "id": "zvgMsoR_VTYo"
   },
   "source": [
    "US_Elections_2020.csv is a dataset that contains tweet data about the 2020 US Presidential elections. It includes the following features: <br>\n",
    "\n",
    "|   | column          | description                                         |\n",
    "|---|-----------------|-----------------------------------------------------|\n",
    "| 0 | text            | the text of the tweet                               |\n",
    "| 1 | sentiment       | 1 for positive sentiment, 0 for negative sentiment  |\n",
    "| 2 | negative_reason | reason for negative tweets. NaN for positive tweets |"
   ]
  },
  {
   "cell_type": "markdown",
   "metadata": {
    "id": "iN7nFsGqX9J1"
   },
   "source": [
    "#### Install and import required libraries"
   ]
  },
  {
   "cell_type": "code",
   "execution_count": null,
   "metadata": {
    "id": "HOuFctbeqfs3",
    "outputId": "34f79230-dc8f-46cc-c401-9d9ab1a09e24"
   },
   "outputs": [
    {
     "name": "stdout",
     "output_type": "stream",
     "text": [
      "Requirement already satisfied: nltk in c:\\users\\lydia\\anaconda3\\lib\\site-packages (3.3)\n",
      "Requirement already satisfied: six in c:\\users\\lydia\\anaconda3\\lib\\site-packages (from nltk) (1.12.0)\n"
     ]
    }
   ],
   "source": [
    "!pip install nltk"
   ]
  },
  {
   "cell_type": "code",
   "execution_count": null,
   "metadata": {
    "id": "DYxi2Fjrqfs4",
    "outputId": "83e4a3b6-9ffb-4ac1-ac28-b81bc1c3a506"
   },
   "outputs": [
    {
     "name": "stdout",
     "output_type": "stream",
     "text": [
      "Requirement already satisfied: wordcloud in c:\\users\\lydia\\anaconda3\\lib\\site-packages (1.7.0)\n",
      "Requirement already satisfied: numpy>=1.6.1 in c:\\users\\lydia\\anaconda3\\lib\\site-packages (from wordcloud) (1.18.1)\n",
      "Requirement already satisfied: pillow in c:\\users\\lydia\\anaconda3\\lib\\site-packages (from wordcloud) (7.0.0)\n",
      "Requirement already satisfied: matplotlib in c:\\users\\lydia\\anaconda3\\lib\\site-packages (from wordcloud) (3.1.3)\n",
      "Requirement already satisfied: kiwisolver>=1.0.1 in c:\\users\\lydia\\anaconda3\\lib\\site-packages (from matplotlib->wordcloud) (1.1.0)\n",
      "Requirement already satisfied: pyparsing!=2.0.4,!=2.1.2,!=2.1.6,>=2.0.1 in c:\\users\\lydia\\anaconda3\\lib\\site-packages (from matplotlib->wordcloud) (2.4.6)\n",
      "Requirement already satisfied: cycler>=0.10 in c:\\users\\lydia\\anaconda3\\lib\\site-packages (from matplotlib->wordcloud) (0.10.0)\n",
      "Requirement already satisfied: python-dateutil>=2.1 in c:\\users\\lydia\\anaconda3\\lib\\site-packages (from matplotlib->wordcloud) (2.8.1)\n",
      "Requirement already satisfied: setuptools in c:\\users\\lydia\\anaconda3\\lib\\site-packages (from kiwisolver>=1.0.1->matplotlib->wordcloud) (45.2.0.post20200210)\n",
      "Requirement already satisfied: six in c:\\users\\lydia\\anaconda3\\lib\\site-packages (from cycler>=0.10->matplotlib->wordcloud) (1.12.0)\n"
     ]
    }
   ],
   "source": [
    "!pip install wordcloud"
   ]
  },
  {
   "cell_type": "code",
   "execution_count": null,
   "metadata": {
    "id": "iq50tFqkqfs4",
    "outputId": "a88518bf-7eba-4419-e7ef-d376d69e4d51"
   },
   "outputs": [
    {
     "name": "stdout",
     "output_type": "stream",
     "text": [
      "Requirement already satisfied: xgboost in c:\\users\\lydia\\anaconda3\\lib\\site-packages (1.1.1)\n",
      "Requirement already satisfied: scipy in c:\\users\\lydia\\anaconda3\\lib\\site-packages (from xgboost) (1.4.1)\n",
      "Requirement already satisfied: numpy in c:\\users\\lydia\\anaconda3\\lib\\site-packages (from xgboost) (1.18.1)\n"
     ]
    }
   ],
   "source": [
    "!pip install xgboost"
   ]
  },
  {
   "cell_type": "code",
   "execution_count": 1,
   "metadata": {
    "colab": {
     "base_uri": "https://localhost:8080/"
    },
    "id": "cTO5BuOmVTYn",
    "outputId": "18470772-c79d-4a4e-c127-b70135d95158"
   },
   "outputs": [
    {
     "name": "stdout",
     "output_type": "stream",
     "text": [
      "[nltk_data] Downloading package stopwords to /root/nltk_data...\n",
      "[nltk_data]   Unzipping corpora/stopwords.zip.\n",
      "[nltk_data] Downloading package punkt to /root/nltk_data...\n",
      "[nltk_data]   Unzipping tokenizers/punkt.zip.\n"
     ]
    }
   ],
   "source": [
    "# Import all required libraries\n",
    "import pandas as pd\n",
    "import numpy as np\n",
    "import seaborn as sns\n",
    "import re\n",
    "import html\n",
    "import string\n",
    "import matplotlib.pyplot as plt\n",
    "import nltk\n",
    "nltk.download('stopwords')\n",
    "nltk.download('punkt')\n",
    "from nltk.corpus import stopwords\n",
    "from nltk.tokenize import word_tokenize \n",
    "from nltk.tokenize.treebank import TreebankWordDetokenizer\n",
    "from html.parser import HTMLParser\n",
    "from wordcloud import WordCloud, STOPWORDS\n",
    "from sklearn.feature_extraction.text import CountVectorizer\n",
    "from sklearn.feature_extraction.text import TfidfVectorizer\n",
    "from sklearn.model_selection import GridSearchCV \n",
    "from sklearn.linear_model import LogisticRegression\n",
    "from sklearn.neighbors import KNeighborsClassifier\n",
    "from sklearn.naive_bayes import GaussianNB\n",
    "from sklearn import svm\n",
    "from sklearn.svm import SVC, LinearSVC, NuSVC, SVR\n",
    "from sklearn.tree import DecisionTreeClassifier\n",
    "from sklearn.ensemble import RandomForestClassifier, RandomForestRegressor\n",
    "import xgboost\n",
    "from sklearn import metrics\n",
    "from sklearn.model_selection import train_test_split\n",
    "from sklearn.metrics import accuracy_score\n",
    "from sklearn.metrics import classification_report\n",
    "from sklearn.metrics import confusion_matrix\n",
    "from numpy import array\n",
    "from scipy.sparse import csr_matrix"
   ]
  },
  {
   "cell_type": "markdown",
   "metadata": {
    "id": "tQ58h2VqVTYn"
   },
   "source": [
    "## 1) Data cleaning"
   ]
  },
  {
   "cell_type": "markdown",
   "metadata": {
    "id": "Ko7XyIJyhiN8"
   },
   "source": [
    "#### Read the csv files."
   ]
  },
  {
   "cell_type": "code",
   "execution_count": 69,
   "metadata": {
    "id": "-clYtWmHVTYo"
   },
   "outputs": [],
   "source": [
    "# read both csv files.\n",
    "df_sent_analysis = pd.read_csv('sentiment_analysis.csv')\n",
    "df_elections = pd.read_csv('US_Elections_2020.csv')"
   ]
  },
  {
   "cell_type": "code",
   "execution_count": 70,
   "metadata": {
    "colab": {
     "base_uri": "https://localhost:8080/",
     "height": 198
    },
    "id": "LvqMQ-Fyqfs5",
    "outputId": "03e11313-df53-4ecb-cb77-14a840897a6a"
   },
   "outputs": [
    {
     "data": {
      "text/html": [
       "<div>\n",
       "<style scoped>\n",
       "    .dataframe tbody tr th:only-of-type {\n",
       "        vertical-align: middle;\n",
       "    }\n",
       "\n",
       "    .dataframe tbody tr th {\n",
       "        vertical-align: top;\n",
       "    }\n",
       "\n",
       "    .dataframe thead th {\n",
       "        text-align: right;\n",
       "    }\n",
       "</style>\n",
       "<table border=\"1\" class=\"dataframe\">\n",
       "  <thead>\n",
       "    <tr style=\"text-align: right;\">\n",
       "      <th></th>\n",
       "      <th>ID</th>\n",
       "      <th>text</th>\n",
       "      <th>label</th>\n",
       "    </tr>\n",
       "  </thead>\n",
       "  <tbody>\n",
       "    <tr>\n",
       "      <th>0</th>\n",
       "      <td>7.680980e+17</td>\n",
       "      <td>Josh Jenkins is looking forward to TAB Breeder...</td>\n",
       "      <td>1</td>\n",
       "    </tr>\n",
       "    <tr>\n",
       "      <th>1</th>\n",
       "      <td>7.680980e+17</td>\n",
       "      <td>RT @MianUsmanJaved: Congratulations Pakistan o...</td>\n",
       "      <td>1</td>\n",
       "    </tr>\n",
       "    <tr>\n",
       "      <th>2</th>\n",
       "      <td>7.680980e+17</td>\n",
       "      <td>RT @PEPalerts: This September, @YESmag is taki...</td>\n",
       "      <td>1</td>\n",
       "    </tr>\n",
       "    <tr>\n",
       "      <th>3</th>\n",
       "      <td>7.680980e+17</td>\n",
       "      <td>RT @david_gaibis: Newly painted walls, thanks ...</td>\n",
       "      <td>1</td>\n",
       "    </tr>\n",
       "    <tr>\n",
       "      <th>4</th>\n",
       "      <td>7.680980e+17</td>\n",
       "      <td>RT @CedricFeschotte: Excited to announce: as o...</td>\n",
       "      <td>1</td>\n",
       "    </tr>\n",
       "  </tbody>\n",
       "</table>\n",
       "</div>"
      ],
      "text/plain": [
       "             ID                                               text  label\n",
       "0  7.680980e+17  Josh Jenkins is looking forward to TAB Breeder...      1\n",
       "1  7.680980e+17  RT @MianUsmanJaved: Congratulations Pakistan o...      1\n",
       "2  7.680980e+17  RT @PEPalerts: This September, @YESmag is taki...      1\n",
       "3  7.680980e+17  RT @david_gaibis: Newly painted walls, thanks ...      1\n",
       "4  7.680980e+17  RT @CedricFeschotte: Excited to announce: as o...      1"
      ]
     },
     "execution_count": 70,
     "metadata": {
      "tags": []
     },
     "output_type": "execute_result"
    }
   ],
   "source": [
    "# display the first 5 rows of df_sent_analysis\n",
    "df_sent_analysis.head()"
   ]
  },
  {
   "cell_type": "code",
   "execution_count": 71,
   "metadata": {
    "colab": {
     "base_uri": "https://localhost:8080/",
     "height": 198
    },
    "id": "_mW-E5MhqftP",
    "outputId": "6245d08a-b7d6-4a6c-9867-c4b0b65b538e"
   },
   "outputs": [
    {
     "data": {
      "text/html": [
       "<div>\n",
       "<style scoped>\n",
       "    .dataframe tbody tr th:only-of-type {\n",
       "        vertical-align: middle;\n",
       "    }\n",
       "\n",
       "    .dataframe tbody tr th {\n",
       "        vertical-align: top;\n",
       "    }\n",
       "\n",
       "    .dataframe thead th {\n",
       "        text-align: right;\n",
       "    }\n",
       "</style>\n",
       "<table border=\"1\" class=\"dataframe\">\n",
       "  <thead>\n",
       "    <tr style=\"text-align: right;\">\n",
       "      <th></th>\n",
       "      <th>text</th>\n",
       "      <th>sentiment</th>\n",
       "      <th>negative_reason</th>\n",
       "    </tr>\n",
       "  </thead>\n",
       "  <tbody>\n",
       "    <tr>\n",
       "      <th>0</th>\n",
       "      <td>b'@robreiner so afraid of Nov, Dec, and Jan! E...</td>\n",
       "      <td>0</td>\n",
       "      <td>covid19</td>\n",
       "    </tr>\n",
       "    <tr>\n",
       "      <th>1</th>\n",
       "      <td>b\"RT @SueC00K: Lord Sumption launches Recovery...</td>\n",
       "      <td>0</td>\n",
       "      <td>others</td>\n",
       "    </tr>\n",
       "    <tr>\n",
       "      <th>2</th>\n",
       "      <td>b'RT @WalidPhares: Uber Timing: after #Biden a...</td>\n",
       "      <td>0</td>\n",
       "      <td>covid19</td>\n",
       "    </tr>\n",
       "    <tr>\n",
       "      <th>3</th>\n",
       "      <td>b'Every 107 seconds an American is dying from ...</td>\n",
       "      <td>1</td>\n",
       "      <td>NaN</td>\n",
       "    </tr>\n",
       "    <tr>\n",
       "      <th>4</th>\n",
       "      <td>b'RT @thewebbix: The #Democrats embrace #Diver...</td>\n",
       "      <td>1</td>\n",
       "      <td>NaN</td>\n",
       "    </tr>\n",
       "  </tbody>\n",
       "</table>\n",
       "</div>"
      ],
      "text/plain": [
       "                                                text  sentiment negative_reason\n",
       "0  b'@robreiner so afraid of Nov, Dec, and Jan! E...          0         covid19\n",
       "1  b\"RT @SueC00K: Lord Sumption launches Recovery...          0          others\n",
       "2  b'RT @WalidPhares: Uber Timing: after #Biden a...          0         covid19\n",
       "3  b'Every 107 seconds an American is dying from ...          1             NaN\n",
       "4  b'RT @thewebbix: The #Democrats embrace #Diver...          1             NaN"
      ]
     },
     "execution_count": 71,
     "metadata": {
      "tags": []
     },
     "output_type": "execute_result"
    }
   ],
   "source": [
    "# display the first 5 rows of df_elections\n",
    "df_elections.head()"
   ]
  },
  {
   "cell_type": "markdown",
   "metadata": {
    "id": "y7tBNewyrTTY"
   },
   "source": [
    "#### Check that there are no missing values"
   ]
  },
  {
   "cell_type": "markdown",
   "metadata": {
    "id": "PekEMqy9sIYd"
   },
   "source": [
    "It is important that there are no missing values especially in the 'label' or 'sentiment' column. Therefore, I will use the dropna() function. Whether or not missing value exists in the dataset, it is essential to check."
   ]
  },
  {
   "cell_type": "code",
   "execution_count": 72,
   "metadata": {
    "id": "bJgcl1HFs6Va"
   },
   "outputs": [],
   "source": [
    "# Drop any missing values if it exists in the 'label' or 'sentiment' column.\n",
    "df_sent_analysis.label.dropna(inplace=True)\n",
    "df_elections.sentiment.dropna(inplace=True)"
   ]
  },
  {
   "cell_type": "markdown",
   "metadata": {
    "id": "XOGbE1LIhiN9"
   },
   "source": [
    "#### Clean the tweets"
   ]
  },
  {
   "cell_type": "markdown",
   "metadata": {
    "id": "QarSUOgNVTYn"
   },
   "source": [
    "Since the tweets have too much noise, they must be processed and cleaned to prepare for analysis. Below are the steps I took to cleaning the text:\n",
    "1. Remove all URLs.\n",
    "2. Remove all html tags attributes using RegEx.\n",
    "3. Replace html character codes (i.e., &...;) with an ASCII equivalent.\n",
    "4. Remove emojis, symbols, and pictures.\n",
    "5. Convert all characters in the text to lowercase.\n",
    "6. Remove all punctuations.\n",
    "7. Remove stop words."
   ]
  },
  {
   "cell_type": "code",
   "execution_count": 73,
   "metadata": {
    "colab": {
     "base_uri": "https://localhost:8080/"
    },
    "id": "UWp0xo0hVTYq",
    "outputId": "02fc83fa-12d8-4896-9d82-7411ec725b96"
   },
   "outputs": [
    {
     "data": {
      "text/plain": [
       "['Josh Jenkins is looking forward to TAB Breeders Crown Super Sunday https://t.co/antImqAo4Y https://t.co/ejnA78Sks0',\n",
       " 'RT @MianUsmanJaved: Congratulations Pakistan on becoming #No1TestTeam in the world against all odds! #JI_PakZindabadRallies https://t.co/1o…',\n",
       " 'RT @PEPalerts: This September, @YESmag is taking you to Maine Mendoza’s surprise thanksgiving party she threw for her fans! https://t.co/oX…',\n",
       " 'RT @david_gaibis: Newly painted walls, thanks a million to our custodial painters this summer.  Great job ladies!!!#EC_proud https://t.co/…',\n",
       " 'RT @CedricFeschotte: Excited to announce: as of July 2017 Feschotte lab will be relocating to @Cornell MBG https://t.co/dd0FG7BRx3',\n",
       " 'RT @SH4WNSMILE: -Who is excited for illuminate !? -.... https://t.co/AKnIVEGUOe',\n",
       " 'RT @KendallHuntRPD: The #firstdayofschool for students &amp; teachers. Good luck and have a Successful 2016-17 School Year #EducationMatters ht…',\n",
       " 'RT @BantySrkian: #SRK and kajol in the making of DDLJ song .. Both are greatest ever 🙏🙏🙏 https://t.co/Aa7fAvvtNE',\n",
       " \"RT @GayHopper_com: I'm happy! https://t.co/fKXbN3Zhtd\",\n",
       " 'RT @StarCinema: Kathryn, Daniel share memorable experience in Barcelona SEE INTERVIEW HERE: https://t.co/Vub69JTdKL https://t.co/NntyQWs7To']"
      ]
     },
     "execution_count": 73,
     "metadata": {
      "tags": []
     },
     "output_type": "execute_result"
    }
   ],
   "source": [
    "# extract the text column in the dataset and convert it into a list containing all the tweets.\n",
    "sent_tweets = df_sent_analysis.text.tolist()\n",
    "election_tweets = df_elections.text.tolist()\n",
    "\n",
    "# display the first 10 tweets\n",
    "sent_tweets[:10]"
   ]
  },
  {
   "cell_type": "markdown",
   "metadata": {
    "id": "t7JGWrsMqftQ"
   },
   "source": [
    "Below, I defined the function to clean the tweets.\n",
    "For stop words, it is important to note that I did not consider words such as \"no\", \"not\", and \"wasn't\" as stop words because these words could be important for sentiment analysis. The absence of these words may incorrectly influence the sentiment of the text. Therefore, they were removed from the stop word list provided by NLTK."
   ]
  },
  {
   "cell_type": "code",
   "execution_count": 74,
   "metadata": {
    "id": "5VgM0m1ajWwc"
   },
   "outputs": [],
   "source": [
    "def clean_tweets(tweet):    \n",
    "    # All URLs are removed\n",
    "    cleanr = re.compile('(http|https)://([\\w_-]+(?:(?:\\.[\\w_-]+)+))([\\w.,@?^=%&:/~+#-]*[\\w@?^=%&/~+#-])?')\n",
    "    tweet = re.sub(cleanr, '', tweet)\n",
    "    \n",
    "    # All html tags attributes are removed using RegEx.\n",
    "    tweet = re.sub(r'/<[^<]+?>/', ' ', tweet)\n",
    "    \n",
    "    #Html character codes (i.e., &...;) are replaced with an ASCII equivalent.\n",
    "    htmlparser = HTMLParser()\n",
    "    tweet = htmlparser.unescape(tweet)\n",
    "\n",
    "    # remove Emojis, symbols, pictures, etc.\n",
    "    regrex_pattern = re.compile(pattern = \"[\"\n",
    "        u\"\\U0001F600-\\U0001F64F\"\n",
    "        u\"\\U0001F300-\\U0001F5FF\"\n",
    "        u\"\\U0001F680-\\U0001F6FF\" \n",
    "        u\"\\U0001F1E0-\\U0001F1FF\"\n",
    "        u\"\\U00002702-\\U000027B0\"\n",
    "        u\"\\U000024C2-\\U0001F251\"\n",
    "                               \"]+\", flags = re.UNICODE)\n",
    "    tweet = regrex_pattern.sub(r'',tweet)\n",
    "    \n",
    "    # All characters in the text are in lowercase.\n",
    "    tweet = tweet.lower()\n",
    "    \n",
    "    #remove all punctuations    \n",
    "    tweet=tweet.translate(str.maketrans(\"\",\"\",string.punctuation))\n",
    "    tweet=tweet.translate(str.maketrans(\"\",\"\",string.digits))\n",
    "    \n",
    "    # Remove stop words. First, modify the stop words list by removing the negation words.\n",
    "    to_remove = ['no', 'nor', 'not', 'ain', 'aren', \"aren't\", 'couldn', \"couldn't\", 'didn', \"didn't\", 'doesn', \"doesn't\", 'isn', \"isn't\", 'wasn', \"wasn't\", 'weren', \"weren't\",\n",
    "                \"won't\", 'wouldn', \"wouldn't\"]\n",
    "    stop_words = set(stopwords.words('english')).difference(to_remove) # remove the negation words from the stop words list.\n",
    "   \n",
    "    to_add = {'rt', 'h', 'ht','htt','http','https','https:','https://', '…'}\n",
    "    stop_words = stop_words.union(to_add)  # include other unimport characters in the stop words list.\n",
    "    \n",
    "    word_tokens = word_tokenize(tweet) # tokenize the tweets\n",
    "    filtered_sentence = [w for w in word_tokens if w not in stop_words] # filter the sentence to remove stop words.\n",
    "    \n",
    "    return filtered_sentence"
   ]
  },
  {
   "cell_type": "code",
   "execution_count": 75,
   "metadata": {
    "colab": {
     "base_uri": "https://localhost:8080/"
    },
    "id": "l6QQRB0fqftQ",
    "outputId": "918e25e4-c2b6-4e21-fa57-b4391335307a"
   },
   "outputs": [
    {
     "name": "stderr",
     "output_type": "stream",
     "text": [
      "/usr/local/lib/python3.6/dist-packages/ipykernel_launcher.py:11: DeprecationWarning: The unescape method is deprecated and will be removed in 3.5, use html.unescape() instead.\n",
      "  # This is added back by InteractiveShellApp.init_path()\n"
     ]
    }
   ],
   "source": [
    "# clean both generic and elections tweets\n",
    "cleaned_sent_tweets = []\n",
    "for tw in sent_tweets:\n",
    "    cleaned_sent_tweets.append(clean_tweets(tw))\n",
    "\n",
    "cleaned_election_tweets = []\n",
    "for tw in election_tweets:\n",
    "    cleaned_election_tweets.append(clean_tweets(tw))"
   ]
  },
  {
   "cell_type": "code",
   "execution_count": 76,
   "metadata": {
    "id": "9X4yh5RYqftQ"
   },
   "outputs": [],
   "source": [
    "# add the cleaned tweets as a new column to the dataset and drop the original text column\n",
    "df_sent_analysis['cleaned_tweet_tokenized'] = cleaned_sent_tweets\n",
    "df_sent_analysis.drop(columns='text', inplace=True)\n",
    "\n",
    "df_elections['cleaned_tweet_tokenized'] = cleaned_election_tweets\n",
    "df_elections.drop(columns='text', inplace=True)"
   ]
  },
  {
   "cell_type": "code",
   "execution_count": 77,
   "metadata": {
    "id": "NnrDrwUtzEod"
   },
   "outputs": [],
   "source": [
    "# add a column 'cleaned_tweet' that has the detokenized texts. This will be used later for the analysis part.\n",
    "detokenize_sent_analysis = []\n",
    "for tweet in df_sent_analysis['cleaned_tweet_tokenized']:\n",
    "    detokenize_sent_analysis.append(TreebankWordDetokenizer().detokenize(tweet))\n",
    "df_sent_analysis['cleaned_tweet'] = detokenize_sent_analysis\n",
    "    \n",
    "detokenize_elections = []\n",
    "for tweet in df_elections['cleaned_tweet_tokenized']:\n",
    "    detokenize_elections.append(TreebankWordDetokenizer().detokenize(tweet))\n",
    "df_elections['cleaned_tweet'] = detokenize_elections"
   ]
  },
  {
   "cell_type": "code",
   "execution_count": 79,
   "metadata": {
    "colab": {
     "base_uri": "https://localhost:8080/",
     "height": 198
    },
    "id": "wpPlEjr4qftQ",
    "outputId": "b38901c9-9349-48b4-f9d2-6c6acc105000"
   },
   "outputs": [
    {
     "data": {
      "text/html": [
       "<div>\n",
       "<style scoped>\n",
       "    .dataframe tbody tr th:only-of-type {\n",
       "        vertical-align: middle;\n",
       "    }\n",
       "\n",
       "    .dataframe tbody tr th {\n",
       "        vertical-align: top;\n",
       "    }\n",
       "\n",
       "    .dataframe thead th {\n",
       "        text-align: right;\n",
       "    }\n",
       "</style>\n",
       "<table border=\"1\" class=\"dataframe\">\n",
       "  <thead>\n",
       "    <tr style=\"text-align: right;\">\n",
       "      <th></th>\n",
       "      <th>label</th>\n",
       "      <th>cleaned_tweet</th>\n",
       "    </tr>\n",
       "  </thead>\n",
       "  <tbody>\n",
       "    <tr>\n",
       "      <th>0</th>\n",
       "      <td>1</td>\n",
       "      <td>josh jenkins looking forward tab breeders crow...</td>\n",
       "    </tr>\n",
       "    <tr>\n",
       "      <th>1</th>\n",
       "      <td>1</td>\n",
       "      <td>mianusmanjaved congratulations pakistan becomi...</td>\n",
       "    </tr>\n",
       "    <tr>\n",
       "      <th>2</th>\n",
       "      <td>1</td>\n",
       "      <td>pepalerts september yesmag taking maine mendoz...</td>\n",
       "    </tr>\n",
       "    <tr>\n",
       "      <th>3</th>\n",
       "      <td>1</td>\n",
       "      <td>davidgaibis newly painted walls thanks million...</td>\n",
       "    </tr>\n",
       "    <tr>\n",
       "      <th>4</th>\n",
       "      <td>1</td>\n",
       "      <td>cedricfeschotte excited announce july feschott...</td>\n",
       "    </tr>\n",
       "  </tbody>\n",
       "</table>\n",
       "</div>"
      ],
      "text/plain": [
       "   label                                      cleaned_tweet\n",
       "0      1  josh jenkins looking forward tab breeders crow...\n",
       "1      1  mianusmanjaved congratulations pakistan becomi...\n",
       "2      1  pepalerts september yesmag taking maine mendoz...\n",
       "3      1  davidgaibis newly painted walls thanks million...\n",
       "4      1  cedricfeschotte excited announce july feschott..."
      ]
     },
     "execution_count": 79,
     "metadata": {
      "tags": []
     },
     "output_type": "execute_result"
    }
   ],
   "source": [
    "# Drop any irrelevant columns for our analysis.\n",
    "df_sent_analysis.drop(columns=['ID', 'cleaned_tweet_tokenized'], inplace=True)\n",
    "\n",
    "#display the first 5 rows of the dataset\n",
    "df_sent_analysis.head()"
   ]
  },
  {
   "cell_type": "markdown",
   "metadata": {
    "id": "_NKcKHZ3o2JB"
   },
   "source": [
    "## **2) Exploratory analysis**"
   ]
  },
  {
   "cell_type": "markdown",
   "metadata": {
    "id": "mFdijKZuVTYs"
   },
   "source": [
    "For the next step, I determined the political party (Republican party, Democratic Party, and Others) of a given tweet for the 2020 elections dataset. Procedure I used was to find relevant words in the tweets that identify to certain political parties and created three new columns (one for each party). If a sentiment of that party was positive, it was assigned as \"positive\" in that column. If the sentiment was negative, it was assigned as \"negative\"."
   ]
  },
  {
   "cell_type": "markdown",
   "metadata": {
    "id": "L_r7ov2KlGG0"
   },
   "source": [
    "#### Determine the political party of a given tweet"
   ]
  },
  {
   "cell_type": "code",
   "execution_count": 80,
   "metadata": {
    "id": "g2Dx1uMzVTYt"
   },
   "outputs": [],
   "source": [
    "def determine_political_party(df):\n",
    "    \n",
    "    # Relevant words in the tweets that identify to certain political parties or candidates\n",
    "    republican = '.*republican.*|.*republicans.*|.*donald trump.*|.*donaldtrump.*|.*donald.*|.*trump.*|.*republican party.*' \n",
    "    democratic = '.*democratic.*|.*democrats.*|.*joe biden.*|.*joebiden.*|.*joe.*|.*biden.*|.*democratic party.*' \n",
    "    \n",
    "    # Create three new columns: Republican, Democratic, and Others\n",
    "    df['Republican'] = ''\n",
    "    df['Democratic'] = ''\n",
    "    df['Others'] = ''\n",
    "    \n",
    "    for i in df.index:\n",
    "        if re.match (republican, df['cleaned_tweet'][i]) :\n",
    "            if df['sentiment'][i] == 1: # if the sentiment is positive, i.e. 1, add 'positive'\n",
    "                df[\"Republican\"][i] = 'positive'\n",
    "            else :\n",
    "                df[\"Republican\"][i] = 'negative' # if the sentiment is negative, i.e. 0, add 'negative'\n",
    "                \n",
    "        if re.match (democratic, df['cleaned_tweet'][i]) :\n",
    "            if df['sentiment'][i] == 1: # if the sentiment is positive, i.e. 1, add 'positive'\n",
    "                df[\"Democratic\"][i] = 'positive' \n",
    "            else :\n",
    "                df[\"Democratic\"][i] = 'negative' # if the sentiment is negative, i.e. 0, add 'negative'\n",
    "                \n",
    "        if df[\"Republican\"][i] == '' and df[\"Democratic\"][i] == '':\n",
    "            if df['sentiment'][i] == 1: # if the sentiment is positive, i.e. 1, add 'positive'\n",
    "                df[\"Others\"][i] = 'positive'\n",
    "            else :\n",
    "                df[\"Others\"][i] = 'negative' # if the sentiment is negative, i.e. 0, add 'negative'"
   ]
  },
  {
   "cell_type": "code",
   "execution_count": 81,
   "metadata": {
    "colab": {
     "base_uri": "https://localhost:8080/"
    },
    "id": "xDGyJNBdqftu",
    "outputId": "f62230e4-7da1-4e24-adc0-4fb494147d9e"
   },
   "outputs": [
    {
     "name": "stderr",
     "output_type": "stream",
     "text": [
      "/usr/local/lib/python3.6/dist-packages/ipykernel_launcher.py:23: SettingWithCopyWarning: \n",
      "A value is trying to be set on a copy of a slice from a DataFrame\n",
      "\n",
      "See the caveats in the documentation: https://pandas.pydata.org/pandas-docs/stable/user_guide/indexing.html#returning-a-view-versus-a-copy\n",
      "/usr/local/lib/python3.6/dist-packages/ipykernel_launcher.py:29: SettingWithCopyWarning: \n",
      "A value is trying to be set on a copy of a slice from a DataFrame\n",
      "\n",
      "See the caveats in the documentation: https://pandas.pydata.org/pandas-docs/stable/user_guide/indexing.html#returning-a-view-versus-a-copy\n",
      "/usr/local/lib/python3.6/dist-packages/ipykernel_launcher.py:15: SettingWithCopyWarning: \n",
      "A value is trying to be set on a copy of a slice from a DataFrame\n",
      "\n",
      "See the caveats in the documentation: https://pandas.pydata.org/pandas-docs/stable/user_guide/indexing.html#returning-a-view-versus-a-copy\n",
      "  from ipykernel import kernelapp as app\n",
      "/usr/local/lib/python3.6/dist-packages/ipykernel_launcher.py:21: SettingWithCopyWarning: \n",
      "A value is trying to be set on a copy of a slice from a DataFrame\n",
      "\n",
      "See the caveats in the documentation: https://pandas.pydata.org/pandas-docs/stable/user_guide/indexing.html#returning-a-view-versus-a-copy\n",
      "/usr/local/lib/python3.6/dist-packages/ipykernel_launcher.py:17: SettingWithCopyWarning: \n",
      "A value is trying to be set on a copy of a slice from a DataFrame\n",
      "\n",
      "See the caveats in the documentation: https://pandas.pydata.org/pandas-docs/stable/user_guide/indexing.html#returning-a-view-versus-a-copy\n",
      "/usr/local/lib/python3.6/dist-packages/ipykernel_launcher.py:27: SettingWithCopyWarning: \n",
      "A value is trying to be set on a copy of a slice from a DataFrame\n",
      "\n",
      "See the caveats in the documentation: https://pandas.pydata.org/pandas-docs/stable/user_guide/indexing.html#returning-a-view-versus-a-copy\n"
     ]
    }
   ],
   "source": [
    "# Apply this function to the 2020 US elections dataset.\n",
    "determine_political_party(df_elections)"
   ]
  },
  {
   "cell_type": "code",
   "execution_count": 82,
   "metadata": {
    "colab": {
     "base_uri": "https://localhost:8080/",
     "height": 198
    },
    "id": "MM9sfgV2qftv",
    "outputId": "991a8f14-80be-4373-fcbd-bf885e8aebcf"
   },
   "outputs": [
    {
     "data": {
      "text/html": [
       "<div>\n",
       "<style scoped>\n",
       "    .dataframe tbody tr th:only-of-type {\n",
       "        vertical-align: middle;\n",
       "    }\n",
       "\n",
       "    .dataframe tbody tr th {\n",
       "        vertical-align: top;\n",
       "    }\n",
       "\n",
       "    .dataframe thead th {\n",
       "        text-align: right;\n",
       "    }\n",
       "</style>\n",
       "<table border=\"1\" class=\"dataframe\">\n",
       "  <thead>\n",
       "    <tr style=\"text-align: right;\">\n",
       "      <th></th>\n",
       "      <th>sentiment</th>\n",
       "      <th>negative_reason</th>\n",
       "      <th>cleaned_tweet_tokenized</th>\n",
       "      <th>cleaned_tweet</th>\n",
       "      <th>Republican</th>\n",
       "      <th>Democratic</th>\n",
       "      <th>Others</th>\n",
       "    </tr>\n",
       "  </thead>\n",
       "  <tbody>\n",
       "    <tr>\n",
       "      <th>0</th>\n",
       "      <td>0</td>\n",
       "      <td>covid19</td>\n",
       "      <td>[brobreiner, afraid, nov, dec, jan, even, bide...</td>\n",
       "      <td>brobreiner afraid nov dec jan even bidenharris...</td>\n",
       "      <td></td>\n",
       "      <td>negative</td>\n",
       "      <td></td>\n",
       "    </tr>\n",
       "    <tr>\n",
       "      <th>1</th>\n",
       "      <td>0</td>\n",
       "      <td>others</td>\n",
       "      <td>[brt, sueck, lord, sumption, launches, recover...</td>\n",
       "      <td>brt sueck lord sumption launches recovery new ...</td>\n",
       "      <td></td>\n",
       "      <td></td>\n",
       "      <td>negative</td>\n",
       "    </tr>\n",
       "    <tr>\n",
       "      <th>2</th>\n",
       "      <td>0</td>\n",
       "      <td>covid19</td>\n",
       "      <td>[brt, walidphares, uber, timing, biden, adviso...</td>\n",
       "      <td>brt walidphares uber timing biden advisors sai...</td>\n",
       "      <td></td>\n",
       "      <td>negative</td>\n",
       "      <td></td>\n",
       "    </tr>\n",
       "    <tr>\n",
       "      <th>3</th>\n",
       "      <td>1</td>\n",
       "      <td>NaN</td>\n",
       "      <td>[bevery, seconds, american, dying, trumpvirus,...</td>\n",
       "      <td>bevery seconds american dying trumpvirus nndon...</td>\n",
       "      <td>positive</td>\n",
       "      <td>positive</td>\n",
       "      <td></td>\n",
       "    </tr>\n",
       "    <tr>\n",
       "      <th>4</th>\n",
       "      <td>1</td>\n",
       "      <td>NaN</td>\n",
       "      <td>[brt, thewebbix, democrats, embrace, diversity...</td>\n",
       "      <td>brt thewebbix democrats embrace diversityandin...</td>\n",
       "      <td></td>\n",
       "      <td>positive</td>\n",
       "      <td></td>\n",
       "    </tr>\n",
       "  </tbody>\n",
       "</table>\n",
       "</div>"
      ],
      "text/plain": [
       "   sentiment negative_reason  ... Democratic    Others\n",
       "0          0         covid19  ...   negative          \n",
       "1          0          others  ...             negative\n",
       "2          0         covid19  ...   negative          \n",
       "3          1             NaN  ...   positive          \n",
       "4          1             NaN  ...   positive          \n",
       "\n",
       "[5 rows x 7 columns]"
      ]
     },
     "execution_count": 82,
     "metadata": {
      "tags": []
     },
     "output_type": "execute_result"
    }
   ],
   "source": [
    "# Show the new elections dataset\n",
    "df_elections.head()"
   ]
  },
  {
   "cell_type": "code",
   "execution_count": 83,
   "metadata": {
    "colab": {
     "base_uri": "https://localhost:8080/"
    },
    "id": "ypXAyJyXqftv",
    "outputId": "3613b09d-3494-4900-e39d-883892e7b968"
   },
   "outputs": [
    {
     "name": "stdout",
     "output_type": "stream",
     "text": [
      "Positive sentiments about the Republican party:  408\n",
      "Negative sentiment about the Republican party:  501\n",
      "Positive sentiment about the Democratic party:  447\n",
      "Negative sentiment about the Democratic party:  335\n"
     ]
    }
   ],
   "source": [
    "# Separate the dataset into positive and negative for each parties. These variables will also be used later in the analysis\n",
    "republican_positive = df_elections[df_elections.Republican == 'positive']\n",
    "democratic_positive = df_elections[df_elections.Democratic == 'positive']\n",
    "republican_negative = df_elections[df_elections.Republican == 'negative']\n",
    "democratic_negative = df_elections[df_elections.Democratic == 'negative']\n",
    "\n",
    "# Print the number of positive and negative sentiments of each party.\n",
    "print(\"Positive sentiments about the Republican party: \", republican_positive.Republican.count())\n",
    "print(\"Negative sentiment about the Republican party: \", republican_negative.Republican.count())\n",
    "print(\"Positive sentiment about the Democratic party: \", democratic_positive.Democratic.count())\n",
    "print(\"Negative sentiment about the Democratic party: \", democratic_negative.Democratic.count())"
   ]
  },
  {
   "cell_type": "markdown",
   "metadata": {
    "id": "V8_qO2JplLox"
   },
   "source": [
    "#### Ploting a bar graph to visualize the distribution of the political affiliations of the tweets"
   ]
  },
  {
   "cell_type": "code",
   "execution_count": 84,
   "metadata": {
    "colab": {
     "base_uri": "https://localhost:8080/",
     "height": 297
    },
    "id": "XQPVjil3qftv",
    "outputId": "3a25e9f6-9bcb-4a2d-d453-b6b0ba262284"
   },
   "outputs": [
    {
     "data": {
      "image/png": "[encoded data removed]",
      "text/plain": [
       "<Figure size 432x288 with 1 Axes>"
      ]
     },
     "metadata": {
      "needs_background": "light",
      "tags": []
     },
     "output_type": "display_data"
    }
   ],
   "source": [
    "# Data to plot\n",
    "n_groups = 2\n",
    "positive = (408, 447) # (number of positive Republican tweets, number of positive Democratic tweets)\n",
    "negative = (501, 335) # (number of negative Republican tweets, number of negative democratic tweets)\n",
    "\n",
    "# Create plot\n",
    "fig, ax = plt.subplots()\n",
    "index = np.arange(n_groups)\n",
    "bar_width = 0.35\n",
    "opacity = 0.8\n",
    "\n",
    "bar1 = plt.bar(index, positive, bar_width, alpha=opacity, color='b', label='Positive tweets')\n",
    "bar2 = plt.bar(index + bar_width, negative, bar_width, alpha=opacity, color='r', label='Negative tweets')\n",
    "\n",
    "plt.xlabel('Political Party')\n",
    "plt.ylabel('Number of tweets')\n",
    "plt.title('Distribution of positive and negative tweets of political parties')\n",
    "plt.xticks(index + bar_width, ('Republican', 'Democratic'))\n",
    "plt.legend()\n",
    "\n",
    "plt.tight_layout()\n",
    "plt.show()"
   ]
  },
  {
   "cell_type": "markdown",
   "metadata": {
    "id": "z4BoMDNSlCaJ"
   },
   "source": [
    "Based on the bar plots above, it appears that more people feel negatively about the Republican party compared to the Democratic party, as evidenced in their greater number of negative tweets. There are slightly higher positive tweets about the Democratic party than Republican, so perhaps it can be assumed that Democratic party have more positive affiliations."
   ]
  },
  {
   "cell_type": "markdown",
   "metadata": {
    "id": "NgC_2pMCnq3U"
   },
   "source": [
    "#### Visualizing some aspect of the generic tweets using Word Cloud"
   ]
  },
  {
   "cell_type": "markdown",
   "metadata": {
    "id": "6OUPdwPffMpo"
   },
   "source": [
    "Word cloud was generated that could give some insight into the most common topics that people are talking about."
   ]
  },
  {
   "cell_type": "code",
   "execution_count": 86,
   "metadata": {
    "colab": {
     "base_uri": "https://localhost:8080/",
     "height": 264
    },
    "id": "sf8TixVJqftw",
    "outputId": "8f89f8a6-724a-4b3e-8708-53c767c75634"
   },
   "outputs": [
    {
     "data": {
      "image/png": "[encoded data removed]",
      "text/plain": [
       "<Figure size 432x288 with 1 Axes>"
      ]
     },
     "metadata": {
      "needs_background": "light",
      "tags": []
     },
     "output_type": "display_data"
    }
   ],
   "source": [
    "# combine all the tweets into one string\n",
    "combined_sent = ''\n",
    "for tweet in df_sent_analysis['cleaned_tweet']:\n",
    "    combined_sent = combined_sent + '' + tweet\n",
    "    \n",
    "# Generate the word cloud\n",
    "cloud_sent = WordCloud(width=3000, height=2000, stopwords={'ht', 'htt', 'http', 'https', 'httpst'}).generate(combined_sent)\n",
    "\n",
    "# Display the word cloud\n",
    "plt.imshow(cloud_sent, interpolation='bilinear')\n",
    "plt.axis('off')\n",
    "plt.title('Word cloud of Generic tweets')\n",
    "plt.show()"
   ]
  },
  {
   "cell_type": "markdown",
   "metadata": {
    "id": "1o9Ts_-2okOj"
   },
   "source": [
    "As illustrated on the word cloud figure, it seems that there are many positive sentiments in the generic tweets. Words such as \"love\", \"amazing\", \"thank\", \"happy\", \"birthday\" stand out in the word cloud. Other words, such as \"monster\", \"sea\", and \"snailgiants\" also seem prominant, which may or may not be neutral. However, definitely positive words appear in the figure. This figure confirms that there are more positive sentiments compared to negative, as shown on the value_counts() output. There are 371341 positive tweets compared to 179050 negative tweets."
   ]
  },
  {
   "cell_type": "code",
   "execution_count": 87,
   "metadata": {
    "colab": {
     "base_uri": "https://localhost:8080/"
    },
    "id": "AkLuX0iKoo77",
    "outputId": "2f07b5d5-add4-4023-9b83-83c5a5422257"
   },
   "outputs": [
    {
     "data": {
      "text/plain": [
       "1    371341\n",
       "0    179050\n",
       "Name: label, dtype: int64"
      ]
     },
     "execution_count": 87,
     "metadata": {
      "tags": []
     },
     "output_type": "execute_result"
    }
   ],
   "source": [
    "df_sent_analysis.label.value_counts()"
   ]
  },
  {
   "cell_type": "markdown",
   "metadata": {
    "id": "xao8XbN-pDLM"
   },
   "source": [
    "#### Visualizing some aspect of the 2020 US Election tweets using Word Cloud"
   ]
  },
  {
   "cell_type": "markdown",
   "metadata": {
    "id": "XuLaucc1pbRT"
   },
   "source": [
    "I have also created a word cloud for the 2020 US Election tweets to understand the most important issues during the election period."
   ]
  },
  {
   "cell_type": "code",
   "execution_count": 44,
   "metadata": {
    "colab": {
     "base_uri": "https://localhost:8080/",
     "height": 264
    },
    "id": "ewpMYSK6qft8",
    "outputId": "c39cd28d-057d-4de6-ba0c-5c0dffe0ac51"
   },
   "outputs": [
    {
     "data": {
      "image/png": "[encoded data removed]",
      "text/plain": [
       "<Figure size 432x288 with 1 Axes>"
      ]
     },
     "metadata": {
      "needs_background": "light",
      "tags": []
     },
     "output_type": "display_data"
    }
   ],
   "source": [
    "# combine all the tweets into one string\n",
    "combined_election = ''\n",
    "for tweet in df_elections['cleaned_tweet']:\n",
    "    combined_election = combined_election + '' + tweet\n",
    "\n",
    "# Generate the word cloud\n",
    "cloud_election = WordCloud(width=3000, height=2000).generate(combined_election)\n",
    "\n",
    "# Display the word cloud\n",
    "plt.imshow(cloud_election, interpolation='bilinear')\n",
    "plt.axis('off')\n",
    "plt.title('Word cloud of 2020 US election tweets')\n",
    "plt.show()"
   ]
  },
  {
   "cell_type": "markdown",
   "metadata": {
    "id": "3HYEEHY6fvi8"
   },
   "source": [
    "Looking at the word cloud of 2020 US election tweets, words such as Trump, Covid, and Vote stand out the most. From this figure, it can be deduced that Covid-19 is one of the top issues facing the country during the elections period."
   ]
  },
  {
   "cell_type": "markdown",
   "metadata": {
    "id": "738Ctp12NJpQ"
   },
   "source": [
    "### Visualizing negative sentiment reasons of each party"
   ]
  },
  {
   "cell_type": "code",
   "execution_count": null,
   "metadata": {
    "id": "4M13mcY88kWT"
   },
   "outputs": [],
   "source": [
    "# Split the negative tweets data into two parties\n",
    "republican_negative = df_negative[df_negative.Republican == 'Yes']\n",
    "democratic_negative = df_negative[df_negative.Democratic == 'Yes']"
   ]
  },
  {
   "cell_type": "code",
   "execution_count": null,
   "metadata": {
    "colab": {
     "base_uri": "https://localhost:8080/"
    },
    "id": "bUpT8danIB7D",
    "outputId": "8fdb5f6b-78a2-4c1e-da51-f4c6aee8f065"
   },
   "outputs": [
    {
     "name": "stdout",
     "output_type": "stream",
     "text": [
      "covid19           159\n",
      "discrimination     97\n",
      "corruption         89\n",
      "crime              85\n",
      "others             71\n",
      "Name: negative_reason, dtype: int64\n"
     ]
    }
   ],
   "source": [
    "print(republican_negative.negative_reason.value_counts())"
   ]
  },
  {
   "cell_type": "code",
   "execution_count": null,
   "metadata": {
    "colab": {
     "base_uri": "https://localhost:8080/"
    },
    "id": "F5VrnbyH-GLK",
    "outputId": "97b4a403-e174-479a-9ecb-b3ee073e8d89"
   },
   "outputs": [
    {
     "data": {
      "text/plain": [
       "covid19           105\n",
       "others             64\n",
       "corruption         62\n",
       "crime              58\n",
       "discrimination     46\n",
       "Name: negative_reason, dtype: int64"
      ]
     },
     "execution_count": 113,
     "metadata": {
      "tags": []
     },
     "output_type": "execute_result"
    }
   ],
   "source": [
    "democratic_negative.negative_reason.value_counts()"
   ]
  },
  {
   "cell_type": "code",
   "execution_count": null,
   "metadata": {
    "colab": {
     "base_uri": "https://localhost:8080/",
     "height": 297
    },
    "id": "_xeO30yV9okq",
    "outputId": "db9f242b-db3d-4b7e-e23d-88f899678f7a"
   },
   "outputs": [
    {
     "data": {
      "image/png": "[encoded data removed]",
      "text/plain": [
       "<Figure size 432x288 with 1 Axes>"
      ]
     },
     "metadata": {
      "needs_background": "light",
      "tags": []
     },
     "output_type": "display_data"
    }
   ],
   "source": [
    "labels = ['covid19', 'discrimination', 'corruption', 'crime', 'others']\n",
    "republican = [159, 97, 89, 85, 71]\n",
    "democratic = [105, 46, 62, 58, 64]\n",
    "\n",
    "x = np.arange(len(labels))  # the label locations\n",
    "width = 0.3  # the width of the bars\n",
    "\n",
    "fig, ax = plt.subplots()\n",
    "r = ax.bar(x - width/2, republican, width, label='Republican party')\n",
    "d = ax.bar(x + width/2, democratic, width, label='Democratic party')\n",
    "\n",
    "# Add some text for labels, title and custom x-axis tick labels, etc.\n",
    "ax.set_ylabel('Frequency')\n",
    "ax.set_title('Reasons of negative sentiments')\n",
    "ax.set_xticks(x)\n",
    "ax.set_xticklabels(labels)\n",
    "ax.legend()\n",
    "\n",
    "def autolabel(bars):\n",
    "    for bar in bars:\n",
    "        height = bar.get_height()\n",
    "        ax.annotate('{}'.format(height),\n",
    "                    xy=(bar.get_x() + bar.get_width() / 2, height),\n",
    "                    xytext=(0, 3),  # 3 points vertical offset\n",
    "                    textcoords=\"offset points\",\n",
    "                    ha='center', va='bottom')\n",
    "autolabel(r)\n",
    "autolabel(d)\n",
    "fig.tight_layout()\n",
    "plt.show()"
   ]
  },
  {
   "cell_type": "markdown",
   "metadata": {
    "id": "oVS2pf1aN4As"
   },
   "source": [
    "As indicated on the plot, there are many negative tweets towards the Republican party relating to Covid-19. As Covid-19 has been one of the major issues we are facing today, it makes sense that we see such a high number of negative tweets about this subject. What is interesting to note is that the majority of Covid-19 negative tweets are concerned with the Republican party. Negative tweets about the Democratic party is smaller than Republican party for all five reasons."
   ]
  },
  {
   "cell_type": "markdown",
   "metadata": {
    "id": "fiSY_b3Dqft8"
   },
   "source": [
    "## 3) Model preparation"
   ]
  },
  {
   "cell_type": "markdown",
   "metadata": {
    "id": "A_RjD6gkqft8"
   },
   "source": [
    "Next, I used Bag of Words (BoW) and TF-IDF features to prepare the data for multiple classification algorithms: Logistic Regression, k-NN, Naive Bayes, SVM, decision trees, Random Forests, and XGBoost. The target variable was the sentiment (positive or negative). After creating BoW and TF-IDF, I split the generic tweets randomly into training and testing data (70/30 split respectively)."
   ]
  },
  {
   "cell_type": "code",
   "execution_count": 88,
   "metadata": {
    "colab": {
     "base_uri": "https://localhost:8080/"
    },
    "id": "qzZDXiNnfxgG",
    "outputId": "ba74fdbc-c974-444c-c31a-ffb166e9bca9"
   },
   "outputs": [
    {
     "data": {
      "text/plain": [
       "550391"
      ]
     },
     "execution_count": 88,
     "metadata": {
      "tags": []
     },
     "output_type": "execute_result"
    }
   ],
   "source": [
    "# Check the number of samples for the sentiment analysis data\n",
    "df_sent_analysis.shape[0]"
   ]
  },
  {
   "cell_type": "markdown",
   "metadata": {
    "id": "zIa_S49kfpft"
   },
   "source": [
    "Note: Using about 500,000 samples to analyze data caused extremely slow time for me when running the cells, therefore, to solve this issue, I randomly selected a subset of samples to be reduced to 100,000."
   ]
  },
  {
   "cell_type": "code",
   "execution_count": 89,
   "metadata": {
    "id": "nIbVuTEKgptT"
   },
   "outputs": [],
   "source": [
    "# Reduce the sample size to 100,000\n",
    "df_sent_analysis = df_sent_analysis.sample(n=100000)"
   ]
  },
  {
   "cell_type": "markdown",
   "metadata": {
    "id": "YzOyu6eKqft8"
   },
   "source": [
    "### Create Bag of Words features"
   ]
  },
  {
   "cell_type": "markdown",
   "metadata": {
    "id": "8BZRoKOx8sLu"
   },
   "source": [
    "I set maximum features to be 3000 and the number of n-grams to be unigrams, bigrams, and trigrams. Since unigrams have a risk of ignoring the context (i.e. not considering negation words) and trigrams have a risk of overfitting, using variety of them can be a good balance."
   ]
  },
  {
   "cell_type": "code",
   "execution_count": 90,
   "metadata": {
    "colab": {
     "base_uri": "https://localhost:8080/",
     "height": 282
    },
    "id": "qs6lh8iFqft8",
    "outputId": "33ccf07f-6ff4-4b6d-893e-9e87b3a22220"
   },
   "outputs": [
    {
     "data": {
      "text/html": [
       "<div>\n",
       "<style scoped>\n",
       "    .dataframe tbody tr th:only-of-type {\n",
       "        vertical-align: middle;\n",
       "    }\n",
       "\n",
       "    .dataframe tbody tr th {\n",
       "        vertical-align: top;\n",
       "    }\n",
       "\n",
       "    .dataframe thead th {\n",
       "        text-align: right;\n",
       "    }\n",
       "</style>\n",
       "<table border=\"1\" class=\"dataframe\">\n",
       "  <thead>\n",
       "    <tr style=\"text-align: right;\">\n",
       "      <th></th>\n",
       "      <th>able</th>\n",
       "      <th>absolute</th>\n",
       "      <th>absolutely</th>\n",
       "      <th>abt</th>\n",
       "      <th>abuse</th>\n",
       "      <th>accept</th>\n",
       "      <th>accident</th>\n",
       "      <th>account</th>\n",
       "      <th>accurate</th>\n",
       "      <th>accused</th>\n",
       "      <th>achievement</th>\n",
       "      <th>across</th>\n",
       "      <th>act</th>\n",
       "      <th>acting</th>\n",
       "      <th>action</th>\n",
       "      <th>actor</th>\n",
       "      <th>actress</th>\n",
       "      <th>actual</th>\n",
       "      <th>actually</th>\n",
       "      <th>ad</th>\n",
       "      <th>add</th>\n",
       "      <th>added</th>\n",
       "      <th>adopt</th>\n",
       "      <th>adorable</th>\n",
       "      <th>adrianrietveld</th>\n",
       "      <th>adrianrietveld amazing</th>\n",
       "      <th>adrianrietveld amazing custom</th>\n",
       "      <th>adult</th>\n",
       "      <th>adventure</th>\n",
       "      <th>advice</th>\n",
       "      <th>af</th>\n",
       "      <th>affordable</th>\n",
       "      <th>afraid</th>\n",
       "      <th>africa</th>\n",
       "      <th>african</th>\n",
       "      <th>african fifa</th>\n",
       "      <th>african fifa world</th>\n",
       "      <th>afternoon</th>\n",
       "      <th>age</th>\n",
       "      <th>ago</th>\n",
       "      <th>...</th>\n",
       "      <th>xbox</th>\n",
       "      <th>xd</th>\n",
       "      <th>xmas</th>\n",
       "      <th>xo</th>\n",
       "      <th>xx</th>\n",
       "      <th>xxx</th>\n",
       "      <th>ya</th>\n",
       "      <th>yall</th>\n",
       "      <th>yay</th>\n",
       "      <th>yeah</th>\n",
       "      <th>year</th>\n",
       "      <th>year old</th>\n",
       "      <th>yearold</th>\n",
       "      <th>years</th>\n",
       "      <th>years ago</th>\n",
       "      <th>years old</th>\n",
       "      <th>yemen</th>\n",
       "      <th>yes</th>\n",
       "      <th>yesterday</th>\n",
       "      <th>yet</th>\n",
       "      <th>yo</th>\n",
       "      <th>yoga</th>\n",
       "      <th>york</th>\n",
       "      <th>you</th>\n",
       "      <th>youd</th>\n",
       "      <th>youll</th>\n",
       "      <th>youll love</th>\n",
       "      <th>young</th>\n",
       "      <th>youre</th>\n",
       "      <th>youre not</th>\n",
       "      <th>youth</th>\n",
       "      <th>youtube</th>\n",
       "      <th>youve</th>\n",
       "      <th>yr</th>\n",
       "      <th>yrs</th>\n",
       "      <th>yummy</th>\n",
       "      <th>zombie</th>\n",
       "      <th>zombie discover</th>\n",
       "      <th>zombie discover die</th>\n",
       "      <th>zoo</th>\n",
       "    </tr>\n",
       "  </thead>\n",
       "  <tbody>\n",
       "    <tr>\n",
       "      <th>0</th>\n",
       "      <td>0</td>\n",
       "      <td>0</td>\n",
       "      <td>0</td>\n",
       "      <td>0</td>\n",
       "      <td>0</td>\n",
       "      <td>0</td>\n",
       "      <td>0</td>\n",
       "      <td>0</td>\n",
       "      <td>0</td>\n",
       "      <td>0</td>\n",
       "      <td>0</td>\n",
       "      <td>0</td>\n",
       "      <td>0</td>\n",
       "      <td>0</td>\n",
       "      <td>0</td>\n",
       "      <td>0</td>\n",
       "      <td>0</td>\n",
       "      <td>0</td>\n",
       "      <td>0</td>\n",
       "      <td>0</td>\n",
       "      <td>0</td>\n",
       "      <td>0</td>\n",
       "      <td>0</td>\n",
       "      <td>0</td>\n",
       "      <td>0</td>\n",
       "      <td>0</td>\n",
       "      <td>0</td>\n",
       "      <td>0</td>\n",
       "      <td>0</td>\n",
       "      <td>0</td>\n",
       "      <td>0</td>\n",
       "      <td>0</td>\n",
       "      <td>0</td>\n",
       "      <td>0</td>\n",
       "      <td>0</td>\n",
       "      <td>0</td>\n",
       "      <td>0</td>\n",
       "      <td>0</td>\n",
       "      <td>0</td>\n",
       "      <td>0</td>\n",
       "      <td>...</td>\n",
       "      <td>0</td>\n",
       "      <td>0</td>\n",
       "      <td>0</td>\n",
       "      <td>0</td>\n",
       "      <td>0</td>\n",
       "      <td>0</td>\n",
       "      <td>0</td>\n",
       "      <td>0</td>\n",
       "      <td>0</td>\n",
       "      <td>0</td>\n",
       "      <td>0</td>\n",
       "      <td>0</td>\n",
       "      <td>0</td>\n",
       "      <td>0</td>\n",
       "      <td>0</td>\n",
       "      <td>0</td>\n",
       "      <td>0</td>\n",
       "      <td>0</td>\n",
       "      <td>0</td>\n",
       "      <td>0</td>\n",
       "      <td>0</td>\n",
       "      <td>0</td>\n",
       "      <td>0</td>\n",
       "      <td>0</td>\n",
       "      <td>0</td>\n",
       "      <td>0</td>\n",
       "      <td>0</td>\n",
       "      <td>0</td>\n",
       "      <td>0</td>\n",
       "      <td>0</td>\n",
       "      <td>0</td>\n",
       "      <td>0</td>\n",
       "      <td>0</td>\n",
       "      <td>0</td>\n",
       "      <td>0</td>\n",
       "      <td>0</td>\n",
       "      <td>0</td>\n",
       "      <td>0</td>\n",
       "      <td>0</td>\n",
       "      <td>0</td>\n",
       "    </tr>\n",
       "    <tr>\n",
       "      <th>1</th>\n",
       "      <td>0</td>\n",
       "      <td>0</td>\n",
       "      <td>0</td>\n",
       "      <td>0</td>\n",
       "      <td>0</td>\n",
       "      <td>0</td>\n",
       "      <td>0</td>\n",
       "      <td>0</td>\n",
       "      <td>0</td>\n",
       "      <td>0</td>\n",
       "      <td>0</td>\n",
       "      <td>0</td>\n",
       "      <td>0</td>\n",
       "      <td>0</td>\n",
       "      <td>0</td>\n",
       "      <td>0</td>\n",
       "      <td>0</td>\n",
       "      <td>0</td>\n",
       "      <td>0</td>\n",
       "      <td>0</td>\n",
       "      <td>0</td>\n",
       "      <td>0</td>\n",
       "      <td>0</td>\n",
       "      <td>0</td>\n",
       "      <td>0</td>\n",
       "      <td>0</td>\n",
       "      <td>0</td>\n",
       "      <td>0</td>\n",
       "      <td>0</td>\n",
       "      <td>0</td>\n",
       "      <td>0</td>\n",
       "      <td>0</td>\n",
       "      <td>0</td>\n",
       "      <td>0</td>\n",
       "      <td>0</td>\n",
       "      <td>0</td>\n",
       "      <td>0</td>\n",
       "      <td>0</td>\n",
       "      <td>0</td>\n",
       "      <td>0</td>\n",
       "      <td>...</td>\n",
       "      <td>0</td>\n",
       "      <td>0</td>\n",
       "      <td>0</td>\n",
       "      <td>0</td>\n",
       "      <td>0</td>\n",
       "      <td>0</td>\n",
       "      <td>0</td>\n",
       "      <td>0</td>\n",
       "      <td>0</td>\n",
       "      <td>0</td>\n",
       "      <td>0</td>\n",
       "      <td>0</td>\n",
       "      <td>0</td>\n",
       "      <td>0</td>\n",
       "      <td>0</td>\n",
       "      <td>0</td>\n",
       "      <td>0</td>\n",
       "      <td>0</td>\n",
       "      <td>0</td>\n",
       "      <td>0</td>\n",
       "      <td>0</td>\n",
       "      <td>0</td>\n",
       "      <td>0</td>\n",
       "      <td>0</td>\n",
       "      <td>0</td>\n",
       "      <td>0</td>\n",
       "      <td>0</td>\n",
       "      <td>0</td>\n",
       "      <td>0</td>\n",
       "      <td>0</td>\n",
       "      <td>0</td>\n",
       "      <td>0</td>\n",
       "      <td>0</td>\n",
       "      <td>0</td>\n",
       "      <td>0</td>\n",
       "      <td>0</td>\n",
       "      <td>0</td>\n",
       "      <td>0</td>\n",
       "      <td>0</td>\n",
       "      <td>0</td>\n",
       "    </tr>\n",
       "    <tr>\n",
       "      <th>2</th>\n",
       "      <td>0</td>\n",
       "      <td>0</td>\n",
       "      <td>0</td>\n",
       "      <td>0</td>\n",
       "      <td>0</td>\n",
       "      <td>0</td>\n",
       "      <td>0</td>\n",
       "      <td>0</td>\n",
       "      <td>0</td>\n",
       "      <td>0</td>\n",
       "      <td>0</td>\n",
       "      <td>0</td>\n",
       "      <td>0</td>\n",
       "      <td>0</td>\n",
       "      <td>0</td>\n",
       "      <td>0</td>\n",
       "      <td>0</td>\n",
       "      <td>0</td>\n",
       "      <td>0</td>\n",
       "      <td>0</td>\n",
       "      <td>0</td>\n",
       "      <td>0</td>\n",
       "      <td>0</td>\n",
       "      <td>0</td>\n",
       "      <td>0</td>\n",
       "      <td>0</td>\n",
       "      <td>0</td>\n",
       "      <td>0</td>\n",
       "      <td>0</td>\n",
       "      <td>0</td>\n",
       "      <td>0</td>\n",
       "      <td>0</td>\n",
       "      <td>0</td>\n",
       "      <td>0</td>\n",
       "      <td>0</td>\n",
       "      <td>0</td>\n",
       "      <td>0</td>\n",
       "      <td>0</td>\n",
       "      <td>0</td>\n",
       "      <td>0</td>\n",
       "      <td>...</td>\n",
       "      <td>0</td>\n",
       "      <td>0</td>\n",
       "      <td>0</td>\n",
       "      <td>0</td>\n",
       "      <td>0</td>\n",
       "      <td>0</td>\n",
       "      <td>0</td>\n",
       "      <td>0</td>\n",
       "      <td>0</td>\n",
       "      <td>0</td>\n",
       "      <td>0</td>\n",
       "      <td>0</td>\n",
       "      <td>0</td>\n",
       "      <td>0</td>\n",
       "      <td>0</td>\n",
       "      <td>0</td>\n",
       "      <td>0</td>\n",
       "      <td>0</td>\n",
       "      <td>0</td>\n",
       "      <td>0</td>\n",
       "      <td>0</td>\n",
       "      <td>0</td>\n",
       "      <td>0</td>\n",
       "      <td>0</td>\n",
       "      <td>0</td>\n",
       "      <td>0</td>\n",
       "      <td>0</td>\n",
       "      <td>0</td>\n",
       "      <td>0</td>\n",
       "      <td>0</td>\n",
       "      <td>0</td>\n",
       "      <td>0</td>\n",
       "      <td>0</td>\n",
       "      <td>0</td>\n",
       "      <td>0</td>\n",
       "      <td>0</td>\n",
       "      <td>0</td>\n",
       "      <td>0</td>\n",
       "      <td>0</td>\n",
       "      <td>0</td>\n",
       "    </tr>\n",
       "    <tr>\n",
       "      <th>3</th>\n",
       "      <td>0</td>\n",
       "      <td>0</td>\n",
       "      <td>0</td>\n",
       "      <td>0</td>\n",
       "      <td>0</td>\n",
       "      <td>0</td>\n",
       "      <td>0</td>\n",
       "      <td>0</td>\n",
       "      <td>0</td>\n",
       "      <td>0</td>\n",
       "      <td>0</td>\n",
       "      <td>0</td>\n",
       "      <td>0</td>\n",
       "      <td>0</td>\n",
       "      <td>0</td>\n",
       "      <td>0</td>\n",
       "      <td>0</td>\n",
       "      <td>0</td>\n",
       "      <td>0</td>\n",
       "      <td>0</td>\n",
       "      <td>0</td>\n",
       "      <td>0</td>\n",
       "      <td>0</td>\n",
       "      <td>0</td>\n",
       "      <td>0</td>\n",
       "      <td>0</td>\n",
       "      <td>0</td>\n",
       "      <td>0</td>\n",
       "      <td>0</td>\n",
       "      <td>0</td>\n",
       "      <td>0</td>\n",
       "      <td>0</td>\n",
       "      <td>0</td>\n",
       "      <td>0</td>\n",
       "      <td>0</td>\n",
       "      <td>0</td>\n",
       "      <td>0</td>\n",
       "      <td>0</td>\n",
       "      <td>0</td>\n",
       "      <td>0</td>\n",
       "      <td>...</td>\n",
       "      <td>0</td>\n",
       "      <td>0</td>\n",
       "      <td>0</td>\n",
       "      <td>0</td>\n",
       "      <td>0</td>\n",
       "      <td>0</td>\n",
       "      <td>0</td>\n",
       "      <td>0</td>\n",
       "      <td>0</td>\n",
       "      <td>0</td>\n",
       "      <td>0</td>\n",
       "      <td>0</td>\n",
       "      <td>0</td>\n",
       "      <td>0</td>\n",
       "      <td>0</td>\n",
       "      <td>0</td>\n",
       "      <td>0</td>\n",
       "      <td>0</td>\n",
       "      <td>0</td>\n",
       "      <td>0</td>\n",
       "      <td>0</td>\n",
       "      <td>0</td>\n",
       "      <td>0</td>\n",
       "      <td>0</td>\n",
       "      <td>0</td>\n",
       "      <td>0</td>\n",
       "      <td>0</td>\n",
       "      <td>0</td>\n",
       "      <td>0</td>\n",
       "      <td>0</td>\n",
       "      <td>0</td>\n",
       "      <td>0</td>\n",
       "      <td>0</td>\n",
       "      <td>0</td>\n",
       "      <td>0</td>\n",
       "      <td>0</td>\n",
       "      <td>0</td>\n",
       "      <td>0</td>\n",
       "      <td>0</td>\n",
       "      <td>0</td>\n",
       "    </tr>\n",
       "    <tr>\n",
       "      <th>4</th>\n",
       "      <td>0</td>\n",
       "      <td>0</td>\n",
       "      <td>0</td>\n",
       "      <td>0</td>\n",
       "      <td>0</td>\n",
       "      <td>0</td>\n",
       "      <td>0</td>\n",
       "      <td>0</td>\n",
       "      <td>0</td>\n",
       "      <td>0</td>\n",
       "      <td>0</td>\n",
       "      <td>0</td>\n",
       "      <td>0</td>\n",
       "      <td>0</td>\n",
       "      <td>0</td>\n",
       "      <td>0</td>\n",
       "      <td>0</td>\n",
       "      <td>0</td>\n",
       "      <td>0</td>\n",
       "      <td>0</td>\n",
       "      <td>0</td>\n",
       "      <td>0</td>\n",
       "      <td>0</td>\n",
       "      <td>0</td>\n",
       "      <td>0</td>\n",
       "      <td>0</td>\n",
       "      <td>0</td>\n",
       "      <td>0</td>\n",
       "      <td>0</td>\n",
       "      <td>0</td>\n",
       "      <td>0</td>\n",
       "      <td>0</td>\n",
       "      <td>0</td>\n",
       "      <td>0</td>\n",
       "      <td>0</td>\n",
       "      <td>0</td>\n",
       "      <td>0</td>\n",
       "      <td>0</td>\n",
       "      <td>0</td>\n",
       "      <td>0</td>\n",
       "      <td>...</td>\n",
       "      <td>0</td>\n",
       "      <td>0</td>\n",
       "      <td>0</td>\n",
       "      <td>0</td>\n",
       "      <td>0</td>\n",
       "      <td>0</td>\n",
       "      <td>0</td>\n",
       "      <td>0</td>\n",
       "      <td>0</td>\n",
       "      <td>0</td>\n",
       "      <td>0</td>\n",
       "      <td>0</td>\n",
       "      <td>0</td>\n",
       "      <td>0</td>\n",
       "      <td>0</td>\n",
       "      <td>0</td>\n",
       "      <td>0</td>\n",
       "      <td>0</td>\n",
       "      <td>0</td>\n",
       "      <td>0</td>\n",
       "      <td>0</td>\n",
       "      <td>0</td>\n",
       "      <td>0</td>\n",
       "      <td>0</td>\n",
       "      <td>0</td>\n",
       "      <td>0</td>\n",
       "      <td>0</td>\n",
       "      <td>0</td>\n",
       "      <td>0</td>\n",
       "      <td>0</td>\n",
       "      <td>0</td>\n",
       "      <td>0</td>\n",
       "      <td>0</td>\n",
       "      <td>0</td>\n",
       "      <td>0</td>\n",
       "      <td>0</td>\n",
       "      <td>0</td>\n",
       "      <td>0</td>\n",
       "      <td>0</td>\n",
       "      <td>0</td>\n",
       "    </tr>\n",
       "  </tbody>\n",
       "</table>\n",
       "<p>5 rows × 3000 columns</p>\n",
       "</div>"
      ],
      "text/plain": [
       "   able  absolute  absolutely  ...  zombie discover  zombie discover die  zoo\n",
       "0     0         0           0  ...                0                    0    0\n",
       "1     0         0           0  ...                0                    0    0\n",
       "2     0         0           0  ...                0                    0    0\n",
       "3     0         0           0  ...                0                    0    0\n",
       "4     0         0           0  ...                0                    0    0\n",
       "\n",
       "[5 rows x 3000 columns]"
      ]
     },
     "execution_count": 90,
     "metadata": {
      "tags": []
     },
     "output_type": "execute_result"
    }
   ],
   "source": [
    "# Create Bag of Words.\n",
    "vect_bow = CountVectorizer(max_features=3000, ngram_range=(1, 3), stop_words={'ht', 'htt', 'http', 'https', 'httpst'})\n",
    "vect_bow.fit(df_sent_analysis.cleaned_tweet)\n",
    "X_bow = vect_bow.transform(df_sent_analysis.cleaned_tweet)\n",
    "\n",
    "# Transform back to a dataframe, assign column names\n",
    "X_bow = pd.DataFrame(X_bow.toarray(), columns=vect_bow.get_feature_names())\n",
    "\n",
    "# Display first 5 rows of the dataframe\n",
    "X_bow.head()"
   ]
  },
  {
   "cell_type": "code",
   "execution_count": 91,
   "metadata": {
    "id": "dbddZO4i3-Wi"
   },
   "outputs": [],
   "source": [
    "# convert to sparse matrix\n",
    "X_bow = csr_matrix(X_bow)"
   ]
  },
  {
   "cell_type": "code",
   "execution_count": 92,
   "metadata": {
    "id": "21px0K4Gqft9"
   },
   "outputs": [],
   "source": [
    "# Train test split and prepare the data for multiple classification algorithms for BOW\n",
    "y_b = df_sent_analysis.label\n",
    "X_b = X_bow\n",
    "\n",
    "# Train/test split\n",
    "X_train_b, X_test_b, y_train_b, y_test_b = train_test_split(X_b, y_b, test_size=0.3, random_state=42)"
   ]
  },
  {
   "cell_type": "markdown",
   "metadata": {
    "id": "5H2ms4dDqft9"
   },
   "source": [
    "### Create TF-IDF features"
   ]
  },
  {
   "cell_type": "code",
   "execution_count": 93,
   "metadata": {
    "colab": {
     "base_uri": "https://localhost:8080/",
     "height": 282
    },
    "id": "wmjmaRGLqft9",
    "outputId": "ac18e335-c803-4b42-a030-90883e19595e"
   },
   "outputs": [
    {
     "data": {
      "text/html": [
       "<div>\n",
       "<style scoped>\n",
       "    .dataframe tbody tr th:only-of-type {\n",
       "        vertical-align: middle;\n",
       "    }\n",
       "\n",
       "    .dataframe tbody tr th {\n",
       "        vertical-align: top;\n",
       "    }\n",
       "\n",
       "    .dataframe thead th {\n",
       "        text-align: right;\n",
       "    }\n",
       "</style>\n",
       "<table border=\"1\" class=\"dataframe\">\n",
       "  <thead>\n",
       "    <tr style=\"text-align: right;\">\n",
       "      <th></th>\n",
       "      <th>able</th>\n",
       "      <th>absolute</th>\n",
       "      <th>absolutely</th>\n",
       "      <th>abt</th>\n",
       "      <th>abuse</th>\n",
       "      <th>accept</th>\n",
       "      <th>accident</th>\n",
       "      <th>account</th>\n",
       "      <th>accurate</th>\n",
       "      <th>accused</th>\n",
       "      <th>achievement</th>\n",
       "      <th>across</th>\n",
       "      <th>act</th>\n",
       "      <th>acting</th>\n",
       "      <th>action</th>\n",
       "      <th>actor</th>\n",
       "      <th>actress</th>\n",
       "      <th>actual</th>\n",
       "      <th>actually</th>\n",
       "      <th>ad</th>\n",
       "      <th>add</th>\n",
       "      <th>added</th>\n",
       "      <th>adopt</th>\n",
       "      <th>adorable</th>\n",
       "      <th>adrianrietveld</th>\n",
       "      <th>adrianrietveld amazing</th>\n",
       "      <th>adrianrietveld amazing custom</th>\n",
       "      <th>adult</th>\n",
       "      <th>adventure</th>\n",
       "      <th>advice</th>\n",
       "      <th>af</th>\n",
       "      <th>affordable</th>\n",
       "      <th>afraid</th>\n",
       "      <th>africa</th>\n",
       "      <th>african</th>\n",
       "      <th>african fifa</th>\n",
       "      <th>african fifa world</th>\n",
       "      <th>afternoon</th>\n",
       "      <th>age</th>\n",
       "      <th>ago</th>\n",
       "      <th>...</th>\n",
       "      <th>xbox</th>\n",
       "      <th>xd</th>\n",
       "      <th>xmas</th>\n",
       "      <th>xo</th>\n",
       "      <th>xx</th>\n",
       "      <th>xxx</th>\n",
       "      <th>ya</th>\n",
       "      <th>yall</th>\n",
       "      <th>yay</th>\n",
       "      <th>yeah</th>\n",
       "      <th>year</th>\n",
       "      <th>year old</th>\n",
       "      <th>yearold</th>\n",
       "      <th>years</th>\n",
       "      <th>years ago</th>\n",
       "      <th>years old</th>\n",
       "      <th>yemen</th>\n",
       "      <th>yes</th>\n",
       "      <th>yesterday</th>\n",
       "      <th>yet</th>\n",
       "      <th>yo</th>\n",
       "      <th>yoga</th>\n",
       "      <th>york</th>\n",
       "      <th>you</th>\n",
       "      <th>youd</th>\n",
       "      <th>youll</th>\n",
       "      <th>youll love</th>\n",
       "      <th>young</th>\n",
       "      <th>youre</th>\n",
       "      <th>youre not</th>\n",
       "      <th>youth</th>\n",
       "      <th>youtube</th>\n",
       "      <th>youve</th>\n",
       "      <th>yr</th>\n",
       "      <th>yrs</th>\n",
       "      <th>yummy</th>\n",
       "      <th>zombie</th>\n",
       "      <th>zombie discover</th>\n",
       "      <th>zombie discover die</th>\n",
       "      <th>zoo</th>\n",
       "    </tr>\n",
       "  </thead>\n",
       "  <tbody>\n",
       "    <tr>\n",
       "      <th>0</th>\n",
       "      <td>0.0</td>\n",
       "      <td>0.0</td>\n",
       "      <td>0.0</td>\n",
       "      <td>0.0</td>\n",
       "      <td>0.0</td>\n",
       "      <td>0.0</td>\n",
       "      <td>0.0</td>\n",
       "      <td>0.0</td>\n",
       "      <td>0.0</td>\n",
       "      <td>0.0</td>\n",
       "      <td>0.0</td>\n",
       "      <td>0.0</td>\n",
       "      <td>0.0</td>\n",
       "      <td>0.0</td>\n",
       "      <td>0.0</td>\n",
       "      <td>0.0</td>\n",
       "      <td>0.0</td>\n",
       "      <td>0.0</td>\n",
       "      <td>0.0</td>\n",
       "      <td>0.0</td>\n",
       "      <td>0.0</td>\n",
       "      <td>0.0</td>\n",
       "      <td>0.0</td>\n",
       "      <td>0.0</td>\n",
       "      <td>0.0</td>\n",
       "      <td>0.0</td>\n",
       "      <td>0.0</td>\n",
       "      <td>0.0</td>\n",
       "      <td>0.0</td>\n",
       "      <td>0.0</td>\n",
       "      <td>0.0</td>\n",
       "      <td>0.0</td>\n",
       "      <td>0.0</td>\n",
       "      <td>0.0</td>\n",
       "      <td>0.0</td>\n",
       "      <td>0.0</td>\n",
       "      <td>0.0</td>\n",
       "      <td>0.0</td>\n",
       "      <td>0.0</td>\n",
       "      <td>0.0</td>\n",
       "      <td>...</td>\n",
       "      <td>0.0</td>\n",
       "      <td>0.0</td>\n",
       "      <td>0.0</td>\n",
       "      <td>0.0</td>\n",
       "      <td>0.0</td>\n",
       "      <td>0.0</td>\n",
       "      <td>0.0</td>\n",
       "      <td>0.0</td>\n",
       "      <td>0.0</td>\n",
       "      <td>0.0</td>\n",
       "      <td>0.0</td>\n",
       "      <td>0.0</td>\n",
       "      <td>0.0</td>\n",
       "      <td>0.0</td>\n",
       "      <td>0.0</td>\n",
       "      <td>0.0</td>\n",
       "      <td>0.0</td>\n",
       "      <td>0.0</td>\n",
       "      <td>0.0</td>\n",
       "      <td>0.0</td>\n",
       "      <td>0.0</td>\n",
       "      <td>0.0</td>\n",
       "      <td>0.0</td>\n",
       "      <td>0.0</td>\n",
       "      <td>0.0</td>\n",
       "      <td>0.0</td>\n",
       "      <td>0.0</td>\n",
       "      <td>0.0</td>\n",
       "      <td>0.0</td>\n",
       "      <td>0.0</td>\n",
       "      <td>0.0</td>\n",
       "      <td>0.0</td>\n",
       "      <td>0.0</td>\n",
       "      <td>0.0</td>\n",
       "      <td>0.0</td>\n",
       "      <td>0.0</td>\n",
       "      <td>0.0</td>\n",
       "      <td>0.0</td>\n",
       "      <td>0.0</td>\n",
       "      <td>0.0</td>\n",
       "    </tr>\n",
       "    <tr>\n",
       "      <th>1</th>\n",
       "      <td>0.0</td>\n",
       "      <td>0.0</td>\n",
       "      <td>0.0</td>\n",
       "      <td>0.0</td>\n",
       "      <td>0.0</td>\n",
       "      <td>0.0</td>\n",
       "      <td>0.0</td>\n",
       "      <td>0.0</td>\n",
       "      <td>0.0</td>\n",
       "      <td>0.0</td>\n",
       "      <td>0.0</td>\n",
       "      <td>0.0</td>\n",
       "      <td>0.0</td>\n",
       "      <td>0.0</td>\n",
       "      <td>0.0</td>\n",
       "      <td>0.0</td>\n",
       "      <td>0.0</td>\n",
       "      <td>0.0</td>\n",
       "      <td>0.0</td>\n",
       "      <td>0.0</td>\n",
       "      <td>0.0</td>\n",
       "      <td>0.0</td>\n",
       "      <td>0.0</td>\n",
       "      <td>0.0</td>\n",
       "      <td>0.0</td>\n",
       "      <td>0.0</td>\n",
       "      <td>0.0</td>\n",
       "      <td>0.0</td>\n",
       "      <td>0.0</td>\n",
       "      <td>0.0</td>\n",
       "      <td>0.0</td>\n",
       "      <td>0.0</td>\n",
       "      <td>0.0</td>\n",
       "      <td>0.0</td>\n",
       "      <td>0.0</td>\n",
       "      <td>0.0</td>\n",
       "      <td>0.0</td>\n",
       "      <td>0.0</td>\n",
       "      <td>0.0</td>\n",
       "      <td>0.0</td>\n",
       "      <td>...</td>\n",
       "      <td>0.0</td>\n",
       "      <td>0.0</td>\n",
       "      <td>0.0</td>\n",
       "      <td>0.0</td>\n",
       "      <td>0.0</td>\n",
       "      <td>0.0</td>\n",
       "      <td>0.0</td>\n",
       "      <td>0.0</td>\n",
       "      <td>0.0</td>\n",
       "      <td>0.0</td>\n",
       "      <td>0.0</td>\n",
       "      <td>0.0</td>\n",
       "      <td>0.0</td>\n",
       "      <td>0.0</td>\n",
       "      <td>0.0</td>\n",
       "      <td>0.0</td>\n",
       "      <td>0.0</td>\n",
       "      <td>0.0</td>\n",
       "      <td>0.0</td>\n",
       "      <td>0.0</td>\n",
       "      <td>0.0</td>\n",
       "      <td>0.0</td>\n",
       "      <td>0.0</td>\n",
       "      <td>0.0</td>\n",
       "      <td>0.0</td>\n",
       "      <td>0.0</td>\n",
       "      <td>0.0</td>\n",
       "      <td>0.0</td>\n",
       "      <td>0.0</td>\n",
       "      <td>0.0</td>\n",
       "      <td>0.0</td>\n",
       "      <td>0.0</td>\n",
       "      <td>0.0</td>\n",
       "      <td>0.0</td>\n",
       "      <td>0.0</td>\n",
       "      <td>0.0</td>\n",
       "      <td>0.0</td>\n",
       "      <td>0.0</td>\n",
       "      <td>0.0</td>\n",
       "      <td>0.0</td>\n",
       "    </tr>\n",
       "    <tr>\n",
       "      <th>2</th>\n",
       "      <td>0.0</td>\n",
       "      <td>0.0</td>\n",
       "      <td>0.0</td>\n",
       "      <td>0.0</td>\n",
       "      <td>0.0</td>\n",
       "      <td>0.0</td>\n",
       "      <td>0.0</td>\n",
       "      <td>0.0</td>\n",
       "      <td>0.0</td>\n",
       "      <td>0.0</td>\n",
       "      <td>0.0</td>\n",
       "      <td>0.0</td>\n",
       "      <td>0.0</td>\n",
       "      <td>0.0</td>\n",
       "      <td>0.0</td>\n",
       "      <td>0.0</td>\n",
       "      <td>0.0</td>\n",
       "      <td>0.0</td>\n",
       "      <td>0.0</td>\n",
       "      <td>0.0</td>\n",
       "      <td>0.0</td>\n",
       "      <td>0.0</td>\n",
       "      <td>0.0</td>\n",
       "      <td>0.0</td>\n",
       "      <td>0.0</td>\n",
       "      <td>0.0</td>\n",
       "      <td>0.0</td>\n",
       "      <td>0.0</td>\n",
       "      <td>0.0</td>\n",
       "      <td>0.0</td>\n",
       "      <td>0.0</td>\n",
       "      <td>0.0</td>\n",
       "      <td>0.0</td>\n",
       "      <td>0.0</td>\n",
       "      <td>0.0</td>\n",
       "      <td>0.0</td>\n",
       "      <td>0.0</td>\n",
       "      <td>0.0</td>\n",
       "      <td>0.0</td>\n",
       "      <td>0.0</td>\n",
       "      <td>...</td>\n",
       "      <td>0.0</td>\n",
       "      <td>0.0</td>\n",
       "      <td>0.0</td>\n",
       "      <td>0.0</td>\n",
       "      <td>0.0</td>\n",
       "      <td>0.0</td>\n",
       "      <td>0.0</td>\n",
       "      <td>0.0</td>\n",
       "      <td>0.0</td>\n",
       "      <td>0.0</td>\n",
       "      <td>0.0</td>\n",
       "      <td>0.0</td>\n",
       "      <td>0.0</td>\n",
       "      <td>0.0</td>\n",
       "      <td>0.0</td>\n",
       "      <td>0.0</td>\n",
       "      <td>0.0</td>\n",
       "      <td>0.0</td>\n",
       "      <td>0.0</td>\n",
       "      <td>0.0</td>\n",
       "      <td>0.0</td>\n",
       "      <td>0.0</td>\n",
       "      <td>0.0</td>\n",
       "      <td>0.0</td>\n",
       "      <td>0.0</td>\n",
       "      <td>0.0</td>\n",
       "      <td>0.0</td>\n",
       "      <td>0.0</td>\n",
       "      <td>0.0</td>\n",
       "      <td>0.0</td>\n",
       "      <td>0.0</td>\n",
       "      <td>0.0</td>\n",
       "      <td>0.0</td>\n",
       "      <td>0.0</td>\n",
       "      <td>0.0</td>\n",
       "      <td>0.0</td>\n",
       "      <td>0.0</td>\n",
       "      <td>0.0</td>\n",
       "      <td>0.0</td>\n",
       "      <td>0.0</td>\n",
       "    </tr>\n",
       "    <tr>\n",
       "      <th>3</th>\n",
       "      <td>0.0</td>\n",
       "      <td>0.0</td>\n",
       "      <td>0.0</td>\n",
       "      <td>0.0</td>\n",
       "      <td>0.0</td>\n",
       "      <td>0.0</td>\n",
       "      <td>0.0</td>\n",
       "      <td>0.0</td>\n",
       "      <td>0.0</td>\n",
       "      <td>0.0</td>\n",
       "      <td>0.0</td>\n",
       "      <td>0.0</td>\n",
       "      <td>0.0</td>\n",
       "      <td>0.0</td>\n",
       "      <td>0.0</td>\n",
       "      <td>0.0</td>\n",
       "      <td>0.0</td>\n",
       "      <td>0.0</td>\n",
       "      <td>0.0</td>\n",
       "      <td>0.0</td>\n",
       "      <td>0.0</td>\n",
       "      <td>0.0</td>\n",
       "      <td>0.0</td>\n",
       "      <td>0.0</td>\n",
       "      <td>0.0</td>\n",
       "      <td>0.0</td>\n",
       "      <td>0.0</td>\n",
       "      <td>0.0</td>\n",
       "      <td>0.0</td>\n",
       "      <td>0.0</td>\n",
       "      <td>0.0</td>\n",
       "      <td>0.0</td>\n",
       "      <td>0.0</td>\n",
       "      <td>0.0</td>\n",
       "      <td>0.0</td>\n",
       "      <td>0.0</td>\n",
       "      <td>0.0</td>\n",
       "      <td>0.0</td>\n",
       "      <td>0.0</td>\n",
       "      <td>0.0</td>\n",
       "      <td>...</td>\n",
       "      <td>0.0</td>\n",
       "      <td>0.0</td>\n",
       "      <td>0.0</td>\n",
       "      <td>0.0</td>\n",
       "      <td>0.0</td>\n",
       "      <td>0.0</td>\n",
       "      <td>0.0</td>\n",
       "      <td>0.0</td>\n",
       "      <td>0.0</td>\n",
       "      <td>0.0</td>\n",
       "      <td>0.0</td>\n",
       "      <td>0.0</td>\n",
       "      <td>0.0</td>\n",
       "      <td>0.0</td>\n",
       "      <td>0.0</td>\n",
       "      <td>0.0</td>\n",
       "      <td>0.0</td>\n",
       "      <td>0.0</td>\n",
       "      <td>0.0</td>\n",
       "      <td>0.0</td>\n",
       "      <td>0.0</td>\n",
       "      <td>0.0</td>\n",
       "      <td>0.0</td>\n",
       "      <td>0.0</td>\n",
       "      <td>0.0</td>\n",
       "      <td>0.0</td>\n",
       "      <td>0.0</td>\n",
       "      <td>0.0</td>\n",
       "      <td>0.0</td>\n",
       "      <td>0.0</td>\n",
       "      <td>0.0</td>\n",
       "      <td>0.0</td>\n",
       "      <td>0.0</td>\n",
       "      <td>0.0</td>\n",
       "      <td>0.0</td>\n",
       "      <td>0.0</td>\n",
       "      <td>0.0</td>\n",
       "      <td>0.0</td>\n",
       "      <td>0.0</td>\n",
       "      <td>0.0</td>\n",
       "    </tr>\n",
       "    <tr>\n",
       "      <th>4</th>\n",
       "      <td>0.0</td>\n",
       "      <td>0.0</td>\n",
       "      <td>0.0</td>\n",
       "      <td>0.0</td>\n",
       "      <td>0.0</td>\n",
       "      <td>0.0</td>\n",
       "      <td>0.0</td>\n",
       "      <td>0.0</td>\n",
       "      <td>0.0</td>\n",
       "      <td>0.0</td>\n",
       "      <td>0.0</td>\n",
       "      <td>0.0</td>\n",
       "      <td>0.0</td>\n",
       "      <td>0.0</td>\n",
       "      <td>0.0</td>\n",
       "      <td>0.0</td>\n",
       "      <td>0.0</td>\n",
       "      <td>0.0</td>\n",
       "      <td>0.0</td>\n",
       "      <td>0.0</td>\n",
       "      <td>0.0</td>\n",
       "      <td>0.0</td>\n",
       "      <td>0.0</td>\n",
       "      <td>0.0</td>\n",
       "      <td>0.0</td>\n",
       "      <td>0.0</td>\n",
       "      <td>0.0</td>\n",
       "      <td>0.0</td>\n",
       "      <td>0.0</td>\n",
       "      <td>0.0</td>\n",
       "      <td>0.0</td>\n",
       "      <td>0.0</td>\n",
       "      <td>0.0</td>\n",
       "      <td>0.0</td>\n",
       "      <td>0.0</td>\n",
       "      <td>0.0</td>\n",
       "      <td>0.0</td>\n",
       "      <td>0.0</td>\n",
       "      <td>0.0</td>\n",
       "      <td>0.0</td>\n",
       "      <td>...</td>\n",
       "      <td>0.0</td>\n",
       "      <td>0.0</td>\n",
       "      <td>0.0</td>\n",
       "      <td>0.0</td>\n",
       "      <td>0.0</td>\n",
       "      <td>0.0</td>\n",
       "      <td>0.0</td>\n",
       "      <td>0.0</td>\n",
       "      <td>0.0</td>\n",
       "      <td>0.0</td>\n",
       "      <td>0.0</td>\n",
       "      <td>0.0</td>\n",
       "      <td>0.0</td>\n",
       "      <td>0.0</td>\n",
       "      <td>0.0</td>\n",
       "      <td>0.0</td>\n",
       "      <td>0.0</td>\n",
       "      <td>0.0</td>\n",
       "      <td>0.0</td>\n",
       "      <td>0.0</td>\n",
       "      <td>0.0</td>\n",
       "      <td>0.0</td>\n",
       "      <td>0.0</td>\n",
       "      <td>0.0</td>\n",
       "      <td>0.0</td>\n",
       "      <td>0.0</td>\n",
       "      <td>0.0</td>\n",
       "      <td>0.0</td>\n",
       "      <td>0.0</td>\n",
       "      <td>0.0</td>\n",
       "      <td>0.0</td>\n",
       "      <td>0.0</td>\n",
       "      <td>0.0</td>\n",
       "      <td>0.0</td>\n",
       "      <td>0.0</td>\n",
       "      <td>0.0</td>\n",
       "      <td>0.0</td>\n",
       "      <td>0.0</td>\n",
       "      <td>0.0</td>\n",
       "      <td>0.0</td>\n",
       "    </tr>\n",
       "  </tbody>\n",
       "</table>\n",
       "<p>5 rows × 3000 columns</p>\n",
       "</div>"
      ],
      "text/plain": [
       "   able  absolute  absolutely  ...  zombie discover  zombie discover die  zoo\n",
       "0   0.0       0.0         0.0  ...              0.0                  0.0  0.0\n",
       "1   0.0       0.0         0.0  ...              0.0                  0.0  0.0\n",
       "2   0.0       0.0         0.0  ...              0.0                  0.0  0.0\n",
       "3   0.0       0.0         0.0  ...              0.0                  0.0  0.0\n",
       "4   0.0       0.0         0.0  ...              0.0                  0.0  0.0\n",
       "\n",
       "[5 rows x 3000 columns]"
      ]
     },
     "execution_count": 93,
     "metadata": {
      "tags": []
     },
     "output_type": "execute_result"
    }
   ],
   "source": [
    "# Create TF-IDF\n",
    "vect_tfidf = TfidfVectorizer(max_features=3000, ngram_range=(1, 3), stop_words={'ht', 'htt', 'http', 'https', 'httpst'})\n",
    "vect_tfidf.fit(df_sent_analysis.cleaned_tweet)\n",
    "X_tfidf = vect_tfidf.transform(df_sent_analysis.cleaned_tweet)\n",
    "\n",
    "# Create a DataFrame\n",
    "X_tfidf = pd.DataFrame(X_tfidf.toarray(), columns=vect_tfidf.get_feature_names())\n",
    "\n",
    "# Display first 5 rows of the dataframe\n",
    "X_tfidf.head()"
   ]
  },
  {
   "cell_type": "code",
   "execution_count": 94,
   "metadata": {
    "id": "IiOm8o7m5sRJ"
   },
   "outputs": [],
   "source": [
    "# convert to sparse matrix\n",
    "X_tfidf = csr_matrix(X_tfidf)"
   ]
  },
  {
   "cell_type": "code",
   "execution_count": 95,
   "metadata": {
    "id": "0dL42iIBqft-"
   },
   "outputs": [],
   "source": [
    "# Split the tweets randomly into 70% training and 30% test data for TF-IDF.\n",
    "y_t = df_sent_analysis.label\n",
    "X_t = X_tfidf\n",
    "\n",
    "# Train/test split\n",
    "X_train_t, X_test_t, y_train_t, y_test_t = train_test_split(X_t, y_t, test_size=0.3, random_state=42)"
   ]
  },
  {
   "cell_type": "markdown",
   "metadata": {
    "id": "DVwd8fYPqft-"
   },
   "source": [
    "### Preparing data for multiple classification algorithms and comparing their accuracy scores"
   ]
  },
  {
   "cell_type": "markdown",
   "metadata": {
    "id": "FGPsGjgjy_Cz"
   },
   "source": [
    "I ran all seven models for BoW and TF-IDF (14 models in total) and compared their accuracies. The best model was Logistic Regression with an accuracy of 0.954 for BoW method. The accurcy is very good, therefore, it is not necessary to perform hyperparameter tuning in this case."
   ]
  },
  {
   "cell_type": "markdown",
   "metadata": {
    "id": "9EZNTzQqyXgu"
   },
   "source": [
    "#### Accuracy values for **BOW**"
   ]
  },
  {
   "cell_type": "code",
   "execution_count": 96,
   "metadata": {
    "colab": {
     "base_uri": "https://localhost:8080/"
    },
    "id": "X9A-NSe66sJA",
    "outputId": "0f86d116-52ed-4dc2-df51-63f125e1448e"
   },
   "outputs": [
    {
     "name": "stdout",
     "output_type": "stream",
     "text": [
      "Accuracy of LogisticRegression :  0.9539666666666666\n"
     ]
    }
   ],
   "source": [
    "# Logistic Regression accuracy\n",
    "model = LogisticRegression(max_iter=1000000).fit(X_train_b, y_train_b)\n",
    "y_predicted = model.predict(X_test_b)\n",
    "accuracy = accuracy_score(y_test_b, y_predicted)\n",
    "print('Accuracy of ' + LogisticRegression().__class__.__name__, ': ', accuracy)"
   ]
  },
  {
   "cell_type": "code",
   "execution_count": 97,
   "metadata": {
    "colab": {
     "base_uri": "https://localhost:8080/"
    },
    "id": "fjn2cE0E65DE",
    "outputId": "94459519-800c-4d67-c33d-5fe8d34af31d"
   },
   "outputs": [
    {
     "name": "stdout",
     "output_type": "stream",
     "text": [
      "Accuracy of KNeighborsClassifier :  0.9038\n"
     ]
    }
   ],
   "source": [
    "# KNN accuracy\n",
    "model = KNeighborsClassifier().fit(X_train_b, y_train_b)\n",
    "y_predicted = model.predict(X_test_b)\n",
    "accuracy = accuracy_score(y_test_b, y_predicted)\n",
    "print('Accuracy of ' + KNeighborsClassifier().__class__.__name__, ': ', accuracy)"
   ]
  },
  {
   "cell_type": "code",
   "execution_count": 98,
   "metadata": {
    "colab": {
     "base_uri": "https://localhost:8080/"
    },
    "id": "XhEvVtiq7IzU",
    "outputId": "30fb3cde-6fac-40ee-ec20-10bfca386806"
   },
   "outputs": [
    {
     "name": "stdout",
     "output_type": "stream",
     "text": [
      "Accuracy of GaussianNB :  0.6795\n"
     ]
    }
   ],
   "source": [
    "# Naive Bayes accuracy\n",
    "# Note: dense data is required since sparce matrix gave me an error. Used X.toarray() to convert to a dense numpy array.\n",
    "model = GaussianNB().fit(X_train_b.toarray(), y_train_b)\n",
    "y_predicted = model.predict(X_test_b.toarray())\n",
    "accuracy = accuracy_score(y_test_b, y_predicted)\n",
    "print('Accuracy of ' + GaussianNB().__class__.__name__, ': ', accuracy)"
   ]
  },
  {
   "cell_type": "code",
   "execution_count": 99,
   "metadata": {
    "colab": {
     "base_uri": "https://localhost:8080/"
    },
    "id": "FozqlxDv7Qwc",
    "outputId": "e1934bfd-e020-4bc1-ce69-e95ea058702a"
   },
   "outputs": [
    {
     "name": "stdout",
     "output_type": "stream",
     "text": [
      "Accuracy of LinearSVC :  0.9518666666666666\n"
     ]
    }
   ],
   "source": [
    "# SVM accuracy\n",
    "model = LinearSVC(max_iter=1000000).fit(X_train_b, y_train_b)\n",
    "y_predicted = model.predict(X_test_b)\n",
    "accuracy = accuracy_score(y_test_b, y_predicted)\n",
    "print('Accuracy of ' + LinearSVC().__class__.__name__, ': ', accuracy)"
   ]
  },
  {
   "cell_type": "code",
   "execution_count": 100,
   "metadata": {
    "colab": {
     "base_uri": "https://localhost:8080/"
    },
    "id": "KSOxAYaw7Q33",
    "outputId": "54f14009-50ff-4c5d-d267-1504acbd7257"
   },
   "outputs": [
    {
     "name": "stdout",
     "output_type": "stream",
     "text": [
      "Accuracy of DecisionTreeClassifier :  0.9166666666666666\n"
     ]
    }
   ],
   "source": [
    "# Decision tree accuracy\n",
    "model = DecisionTreeClassifier().fit(X_train_b, y_train_b)\n",
    "y_predicted = model.predict(X_test_b)\n",
    "accuracy = accuracy_score(y_test_b, y_predicted)\n",
    "print('Accuracy of ' + DecisionTreeClassifier().__class__.__name__, ': ', accuracy)"
   ]
  },
  {
   "cell_type": "code",
   "execution_count": 101,
   "metadata": {
    "colab": {
     "base_uri": "https://localhost:8080/"
    },
    "id": "KYcBfN627REW",
    "outputId": "cb065eb2-e112-414e-a8b1-4b205d68bf42"
   },
   "outputs": [
    {
     "name": "stdout",
     "output_type": "stream",
     "text": [
      "Accuracy of RandomForestClassifier :  0.9358666666666666\n"
     ]
    }
   ],
   "source": [
    "# Random Forest accuracy\n",
    "model = RandomForestClassifier().fit(X_train_b, y_train_b)\n",
    "y_predicted = model.predict(X_test_b)\n",
    "accuracy = accuracy_score(y_test_b, y_predicted)\n",
    "print('Accuracy of ' + RandomForestClassifier().__class__.__name__, ': ', accuracy)"
   ]
  },
  {
   "cell_type": "code",
   "execution_count": 102,
   "metadata": {
    "colab": {
     "base_uri": "https://localhost:8080/"
    },
    "id": "mxUpi85j7gnV",
    "outputId": "6e4fc802-6a6f-4189-e238-4b75d284e0b1"
   },
   "outputs": [
    {
     "name": "stdout",
     "output_type": "stream",
     "text": [
      "Accuracy of XGBClassifier :  0.7800666666666667\n"
     ]
    }
   ],
   "source": [
    "# XGBoost accuracy\n",
    "model = xgboost.XGBClassifier().fit(X_train_b, y_train_b)\n",
    "y_predicted = model.predict(X_test_b)\n",
    "accuracy = accuracy_score(y_test_b, y_predicted)\n",
    "print('Accuracy of ' + xgboost.XGBClassifier().__class__.__name__, ': ', accuracy)"
   ]
  },
  {
   "cell_type": "markdown",
   "metadata": {
    "id": "ExcJ164qyqRq"
   },
   "source": [
    "#### Accuracy values for **TF-IDF**"
   ]
  },
  {
   "cell_type": "code",
   "execution_count": 103,
   "metadata": {
    "colab": {
     "base_uri": "https://localhost:8080/"
    },
    "id": "GLSekCYD9jtq",
    "outputId": "e958794c-1512-4ef9-d272-f412cf9bf570"
   },
   "outputs": [
    {
     "name": "stdout",
     "output_type": "stream",
     "text": [
      "Accuracy of LogisticRegression :  0.9521666666666667\n"
     ]
    }
   ],
   "source": [
    "model = LogisticRegression(max_iter=1000000).fit(X_train_t, y_train_t)\n",
    "y_predicted = model.predict(X_test_t)\n",
    "accuracy = accuracy_score(y_test_t, y_predicted)\n",
    "print('Accuracy of ' + LogisticRegression().__class__.__name__, ': ', accuracy)"
   ]
  },
  {
   "cell_type": "code",
   "execution_count": 104,
   "metadata": {
    "colab": {
     "base_uri": "https://localhost:8080/"
    },
    "id": "1RNG9TYm9jtr",
    "outputId": "b8fdfc82-343d-4611-cc74-db8fab9c7be4"
   },
   "outputs": [
    {
     "name": "stdout",
     "output_type": "stream",
     "text": [
      "Accuracy of KNeighborsClassifier :  0.7822333333333333\n"
     ]
    }
   ],
   "source": [
    "model = KNeighborsClassifier().fit(X_train_t, y_train_t)\n",
    "y_predicted = model.predict(X_test_t)\n",
    "accuracy = accuracy_score(y_test_t, y_predicted)\n",
    "print('Accuracy of ' + KNeighborsClassifier().__class__.__name__, ': ', accuracy)"
   ]
  },
  {
   "cell_type": "code",
   "execution_count": 105,
   "metadata": {
    "colab": {
     "base_uri": "https://localhost:8080/"
    },
    "id": "bW-rb7Ip9jtr",
    "outputId": "a42fd9d1-7800-40e1-b253-9cff1f309695"
   },
   "outputs": [
    {
     "name": "stdout",
     "output_type": "stream",
     "text": [
      "Accuracy of GaussianNB :  0.7179333333333333\n"
     ]
    }
   ],
   "source": [
    "# A sparse matrix was passed, but dense data is required. Use X.toarray() to convert to a dense numpy array.\n",
    "model = GaussianNB().fit(X_train_t.toarray(), y_train_t)\n",
    "y_predicted = model.predict(X_test_t.toarray())\n",
    "accuracy = accuracy_score(y_test_t, y_predicted)\n",
    "print('Accuracy of ' + GaussianNB().__class__.__name__, ': ', accuracy)"
   ]
  },
  {
   "cell_type": "code",
   "execution_count": 106,
   "metadata": {
    "colab": {
     "base_uri": "https://localhost:8080/"
    },
    "id": "7jYK94I09jtr",
    "outputId": "9cfffc6c-cca2-428d-ada0-b02ee356fdf0"
   },
   "outputs": [
    {
     "name": "stdout",
     "output_type": "stream",
     "text": [
      "Accuracy of LinearSVC :  0.9528333333333333\n"
     ]
    }
   ],
   "source": [
    "model = LinearSVC(max_iter=1000000).fit(X_train_t, y_train_t)\n",
    "y_predicted = model.predict(X_test_t)\n",
    "accuracy = accuracy_score(y_test_t, y_predicted)\n",
    "print('Accuracy of ' + LinearSVC().__class__.__name__, ': ', accuracy)"
   ]
  },
  {
   "cell_type": "code",
   "execution_count": 107,
   "metadata": {
    "colab": {
     "base_uri": "https://localhost:8080/"
    },
    "id": "Lbq0UwJS9jts",
    "outputId": "0c1a538c-8b0d-4c2a-fd2a-b9c6488d14e8"
   },
   "outputs": [
    {
     "name": "stdout",
     "output_type": "stream",
     "text": [
      "Accuracy of DecisionTreeClassifier :  0.9233\n"
     ]
    }
   ],
   "source": [
    "model = DecisionTreeClassifier().fit(X_train_t, y_train_t)\n",
    "y_predicted = model.predict(X_test_t)\n",
    "accuracy = accuracy_score(y_test_t, y_predicted)\n",
    "print('Accuracy of ' + DecisionTreeClassifier().__class__.__name__, ': ', accuracy)"
   ]
  },
  {
   "cell_type": "code",
   "execution_count": 108,
   "metadata": {
    "colab": {
     "base_uri": "https://localhost:8080/"
    },
    "id": "ENnXW8RX9jts",
    "outputId": "f08571b3-e460-4598-fc3d-2676ee1a7f7e"
   },
   "outputs": [
    {
     "name": "stdout",
     "output_type": "stream",
     "text": [
      "Accuracy of RandomForestClassifier :  0.9414333333333333\n"
     ]
    }
   ],
   "source": [
    "model = RandomForestClassifier().fit(X_train_t, y_train_t)\n",
    "y_predicted = model.predict(X_test_t)\n",
    "accuracy = accuracy_score(y_test_t, y_predicted)\n",
    "print('Accuracy of ' + RandomForestClassifier().__class__.__name__, ': ', accuracy)"
   ]
  },
  {
   "cell_type": "code",
   "execution_count": 109,
   "metadata": {
    "colab": {
     "base_uri": "https://localhost:8080/"
    },
    "id": "dUkSvltk9jts",
    "outputId": "2254257c-938e-4aa2-e521-cb3a7d3eee34"
   },
   "outputs": [
    {
     "name": "stdout",
     "output_type": "stream",
     "text": [
      "Accuracy of XGBClassifier :  0.7924\n"
     ]
    }
   ],
   "source": [
    "model = xgboost.XGBClassifier().fit(X_train_t, y_train_t)\n",
    "y_predicted = model.predict(X_test_t)\n",
    "accuracy = accuracy_score(y_test_t, y_predicted)\n",
    "print('Accuracy of ' + xgboost.XGBClassifier().__class__.__name__, ': ', accuracy)"
   ]
  },
  {
   "cell_type": "markdown",
   "metadata": {
    "id": "MzEp0BMyqfuE"
   },
   "source": [
    "## 4) Model implementation and tuning"
   ]
  },
  {
   "cell_type": "markdown",
   "metadata": {
    "id": "8Q20KcTE0OJe"
   },
   "source": [
    "I will use the model with the best performance (Logistic Regression using BoW features) and evaluate it on the 2020 US elections data."
   ]
  },
  {
   "cell_type": "code",
   "execution_count": 114,
   "metadata": {
    "colab": {
     "base_uri": "https://localhost:8080/"
    },
    "id": "n27tg08A1CCR",
    "outputId": "3665e594-f5f2-4e90-bac5-cdfea9514fc2"
   },
   "outputs": [
    {
     "name": "stdout",
     "output_type": "stream",
     "text": [
      "Accuracy on the US elections 2020 data:  0.4647335423197492\n",
      "              precision    recall  f1-score   support\n",
      "\n",
      "           0       0.47      0.56      0.51      1264\n",
      "           1       0.46      0.38      0.41      1288\n",
      "\n",
      "    accuracy                           0.46      2552\n",
      "   macro avg       0.46      0.47      0.46      2552\n",
      "weighted avg       0.46      0.46      0.46      2552\n",
      "\n"
     ]
    }
   ],
   "source": [
    "# Create BOW features for the df_elections data\n",
    "vect = CountVectorizer(max_features=3000, ngram_range=(1, 3))  # set max features to be 3000 and uni- to tri-grams\n",
    "vect.fit(df_elections.cleaned_tweet)\n",
    "X = vect.transform(df_elections.cleaned_tweet)\n",
    "\n",
    "# Transform back to a dataframe, assign column names\n",
    "X = pd.DataFrame(X.toarray(), columns=vect.get_feature_names())\n",
    "\n",
    "# convert to sparse matrix\n",
    "X = csr_matrix(X)\n",
    "\n",
    "# Define the target variable (y_elections) and the predictor variables (X_elections).\n",
    "y_elections = df_elections.sentiment\n",
    "X_elections = X\n",
    "\n",
    "# Train using the best model\n",
    "log_reg = LogisticRegression(max_iter=1000000).fit(X_train_b, y_train_b)\n",
    "\n",
    "# Predict the labels\n",
    "y_predicted = log_reg.predict(X_elections)\n",
    "\n",
    "# Print accuracy score on the elections data\n",
    "print('Accuracy on the US elections 2020 data: ', accuracy_score(y_elections, y_predicted))\n",
    "\n",
    "# Evaluate model's predictions\n",
    "print(metrics.classification_report(y_elections, y_predicted))"
   ]
  },
  {
   "cell_type": "markdown",
   "metadata": {
    "id": "RsqNx-ejA1-G"
   },
   "source": [
    "As shown from the evaluation report, the accuracy on the elections data is fairly low. To try to improve the model's performance, I will perform hyperparameter tuning."
   ]
  },
  {
   "cell_type": "markdown",
   "metadata": {
    "id": "G3msuCHlBwmZ"
   },
   "source": [
    "#### Hyperparameter tuning"
   ]
  },
  {
   "cell_type": "code",
   "execution_count": 115,
   "metadata": {
    "id": "1aHIfzCVB7UF"
   },
   "outputs": [],
   "source": [
    "# Define parameter ranges\n",
    "logModel = LogisticRegression(max_iter=1000000)"
   ]
  },
  {
   "cell_type": "code",
   "execution_count": 116,
   "metadata": {
    "colab": {
     "base_uri": "https://localhost:8080/"
    },
    "id": "jy_jBNMaO9Wc",
    "outputId": "51d9e7ab-eafa-4712-9e78-896c042fbb9c"
   },
   "outputs": [
    {
     "name": "stdout",
     "output_type": "stream",
     "text": [
      "Fitting 3 folds for each of 6 candidates, totalling 18 fits\n"
     ]
    },
    {
     "name": "stderr",
     "output_type": "stream",
     "text": [
      "[Parallel(n_jobs=-1)]: Using backend LokyBackend with 4 concurrent workers.\n",
      "[Parallel(n_jobs=-1)]: Done  18 out of  18 | elapsed:   11.2s finished\n"
     ]
    }
   ],
   "source": [
    "# Set parameter grid\n",
    "param_grid = {'penalty' : ['l2'], 'C' : [0.001, 0.1, 10], 'solver' : ['liblinear', 'saga']}\n",
    "\n",
    "clf = GridSearchCV(logModel, param_grid=param_grid, cv=3, verbose=True, n_jobs = -1)\n",
    "\n",
    "best_clf = clf.fit(X_train_b, y_train_b)"
   ]
  },
  {
   "cell_type": "code",
   "execution_count": 117,
   "metadata": {
    "colab": {
     "base_uri": "https://localhost:8080/"
    },
    "id": "dR5lI7CeB7UF",
    "outputId": "d2318b3a-939a-4f51-c45d-e645c1f8a624"
   },
   "outputs": [
    {
     "data": {
      "text/plain": [
       "{'C': 10, 'penalty': 'l2', 'solver': 'saga'}"
      ]
     },
     "execution_count": 117,
     "metadata": {
      "tags": []
     },
     "output_type": "execute_result"
    }
   ],
   "source": [
    "# Get best estimators\n",
    "best_clf.best_params_"
   ]
  },
  {
   "cell_type": "code",
   "execution_count": 118,
   "metadata": {
    "colab": {
     "base_uri": "https://localhost:8080/"
    },
    "id": "nNGIrzles7zw",
    "outputId": "4b423f2d-488a-4d93-8b3b-94762a9d5620"
   },
   "outputs": [
    {
     "name": "stdout",
     "output_type": "stream",
     "text": [
      "Accuracy on the US elections 2020 data:  0.46943573667711597\n",
      "              precision    recall  f1-score   support\n",
      "\n",
      "           0       0.47      0.53      0.50      1264\n",
      "           1       0.47      0.41      0.44      1288\n",
      "\n",
      "    accuracy                           0.47      2552\n",
      "   macro avg       0.47      0.47      0.47      2552\n",
      "weighted avg       0.47      0.47      0.47      2552\n",
      "\n"
     ]
    }
   ],
   "source": [
    "# Using the best parameters obtained, determine the accuracy\n",
    "best_clf =  LogisticRegression(C=10, penalty='l2', solver='saga', max_iter=1000000)\n",
    "best_clf.fit(X_train_b, y_train_b)\n",
    "\n",
    "# Predict the labels\n",
    "y_predicted = best_clf.predict(X_elections) \n",
    "\n",
    "# Print accuracy score on the elections data\n",
    "print('Accuracy on the US elections 2020 data: ', accuracy_score(y_elections, y_predicted))\n",
    "\n",
    "# print classification report \n",
    "print(classification_report(y_elections, y_predicted))"
   ]
  },
  {
   "cell_type": "code",
   "execution_count": 120,
   "metadata": {
    "colab": {
     "base_uri": "https://localhost:8080/",
     "height": 313
    },
    "id": "_r9W263aqfub",
    "outputId": "9d8018cc-9b3c-48ae-ee54-a16d86d86f5d"
   },
   "outputs": [
    {
     "data": {
      "text/plain": [
       "Text(0.5, 1.0, 'Confusion Matrix on the elections data')"
      ]
     },
     "execution_count": 120,
     "metadata": {
      "tags": []
     },
     "output_type": "execute_result"
    },
    {
     "data": {
      "image/png": "[encoded data removed]",
      "text/plain": [
       "<Figure size 432x288 with 2 Axes>"
      ]
     },
     "metadata": {
      "needs_background": "light",
      "tags": []
     },
     "output_type": "display_data"
    }
   ],
   "source": [
    "# Display the confusion matrix\n",
    "cm = confusion_matrix(y_elections, y_predicted)\n",
    "ax = plt.subplot()\n",
    "sns.heatmap(cm, annot=True, ax=ax, fmt='g', cmap='Blues')\n",
    "\n",
    "# labels, title and ticks\n",
    "ax.set_xlabel('Predicted sentiment')\n",
    "ax.set_ylabel('True sentiment') \n",
    "ax.set_title('Confusion Matrix on the elections data')"
   ]
  },
  {
   "cell_type": "markdown",
   "metadata": {
    "id": "bLkgiHZo2gos"
   },
   "source": [
    "Hyperparameter tuning did not result in big difference in the accuracy. It only went from 0.46 to 0.47. The model did not predict well on the elections data, and there was a big discrepancy between the predicted vs. true sentiment. The model incorrectly predicted 755 negative sentiments when they should have been positive, and 599 positive sentiments when they should have been negative."
   ]
  },
  {
   "cell_type": "markdown",
   "metadata": {
    "id": "u6vgjvx3DnXL"
   },
   "source": [
    "### Visualizing sentiment prediction results and true sentiment for each of the two parties"
   ]
  },
  {
   "cell_type": "markdown",
   "metadata": {
    "id": "OrGS1Waxqfub"
   },
   "source": [
    "Using the Logistic Regression model which performed the best, I visualized the sentiment prediction results and the true sentiment for each of the two parties."
   ]
  },
  {
   "cell_type": "code",
   "execution_count": 121,
   "metadata": {
    "colab": {
     "base_uri": "https://localhost:8080/"
    },
    "id": "kHG6EMr5qfub",
    "outputId": "52883688-13ec-46c9-9f98-44c15f5cd1e4"
   },
   "outputs": [
    {
     "name": "stderr",
     "output_type": "stream",
     "text": [
      "/usr/local/lib/python3.6/dist-packages/ipykernel_launcher.py:17: SettingWithCopyWarning: \n",
      "A value is trying to be set on a copy of a slice from a DataFrame\n",
      "\n",
      "See the caveats in the documentation: https://pandas.pydata.org/pandas-docs/stable/user_guide/indexing.html#returning-a-view-versus-a-copy\n",
      "/usr/local/lib/python3.6/dist-packages/ipykernel_launcher.py:20: SettingWithCopyWarning: \n",
      "A value is trying to be set on a copy of a slice from a DataFrame\n",
      "\n",
      "See the caveats in the documentation: https://pandas.pydata.org/pandas-docs/stable/user_guide/indexing.html#returning-a-view-versus-a-copy\n",
      "/usr/local/lib/python3.6/dist-packages/ipykernel_launcher.py:14: SettingWithCopyWarning: \n",
      "A value is trying to be set on a copy of a slice from a DataFrame\n",
      "\n",
      "See the caveats in the documentation: https://pandas.pydata.org/pandas-docs/stable/user_guide/indexing.html#returning-a-view-versus-a-copy\n",
      "  \n"
     ]
    }
   ],
   "source": [
    "def determine_political_affiliation(df):\n",
    "    \n",
    "    # Relevant words in the tweets that identify to certain political parties or candidates\n",
    "    republican = '.*republican.*|.*republicans.*|.*donald trump.*|.*donaldtrump.*|.*donald.*|.*trump.*|.*republican party.*' \n",
    "    democratic = '.*democratic.*|.*democrats.*|.*joe biden.*|.*joebiden.*|.*joe.*|.*biden.*|.*democratic party.*' \n",
    "    \n",
    "    # Create three new columns: Republican, Democratic, and Others\n",
    "    df['Republican'] = ''\n",
    "    df['Democratic'] = ''\n",
    "    df['Others'] = ''\n",
    "    \n",
    "    for i in df.index:\n",
    "        if re.match (republican, df['cleaned_tweet'][i]) :\n",
    "            df[\"Republican\"][i] = 'Yes'\n",
    "                \n",
    "        if re.match (democratic, df['cleaned_tweet'][i]) :\n",
    "            df[\"Democratic\"][i] = 'Yes'\n",
    "            \n",
    "        if df[\"Republican\"][i] == '' and df[\"Democratic\"][i] == '':\n",
    "            df[\"Others\"][i] = 'Yes'\n",
    "\n",
    "determine_political_affiliation(df_elections)\n",
    "\n",
    "# Separate the Republican tweets with Democratic tweets\n",
    "republican_tweets = df_elections[df_elections.Republican == 'Yes']\n",
    "democratic_tweets = df_elections[df_elections.Democratic == 'Yes']"
   ]
  },
  {
   "cell_type": "code",
   "execution_count": 123,
   "metadata": {
    "id": "45MUcVO3F51h"
   },
   "outputs": [],
   "source": [
    "# Create TF-IDF features for both parties\n",
    "vect_r = TfidfVectorizer(max_features=3000, ngram_range=(1, 3)) # set max features to be 3000 and have uni- to tri-grams\n",
    "vect_r.fit(republican_tweets.cleaned_tweet)\n",
    "X_r = vect_r.transform(republican_tweets.cleaned_tweet)\n",
    "\n",
    "vect_d = TfidfVectorizer(max_features=3000, ngram_range=(1, 3)) # set max features to be 3000 and have uni- to tri-grams\n",
    "vect_d.fit(democratic_tweets.cleaned_tweet)\n",
    "X_d = vect_d.transform(democratic_tweets.cleaned_tweet)"
   ]
  },
  {
   "cell_type": "code",
   "execution_count": 124,
   "metadata": {
    "id": "KL2eutgGF84y"
   },
   "outputs": [],
   "source": [
    "# Transform back to a dataframe, assign column names\n",
    "X_r = pd.DataFrame(X_r.toarray(), columns=vect_r.get_feature_names())\n",
    "X_d = pd.DataFrame(X_d.toarray(), columns=vect_d.get_feature_names())"
   ]
  },
  {
   "cell_type": "code",
   "execution_count": 125,
   "metadata": {
    "id": "gJKdDRwMF8v9"
   },
   "outputs": [],
   "source": [
    "# convert to sparse matrix\n",
    "X_r = csr_matrix(X_r)\n",
    "X_d = csr_matrix(X_d)"
   ]
  },
  {
   "cell_type": "code",
   "execution_count": 126,
   "metadata": {
    "id": "7iy7zMZ8s7zw"
   },
   "outputs": [],
   "source": [
    "# Define the target variable (y_elections)\n",
    "y_r = republican_tweets.sentiment\n",
    "y_d = democratic_tweets.sentiment"
   ]
  },
  {
   "cell_type": "code",
   "execution_count": 127,
   "metadata": {
    "colab": {
     "base_uri": "https://localhost:8080/"
    },
    "id": "9sscQFb6E5Fs",
    "outputId": "827ce6f3-2076-42e2-e441-7d40e8636e11"
   },
   "outputs": [
    {
     "name": "stdout",
     "output_type": "stream",
     "text": [
      "Accuracy on Republican data:  0.5071507150715071\n",
      "Accuracy on Democratic data:  0.4437340153452685\n"
     ]
    }
   ],
   "source": [
    "# Predict the labels\n",
    "y_predicted_r = best_clf.predict(X_r)\n",
    "y_predicted_d = best_clf.predict(X_d) \n",
    "\n",
    "# Print accuracy score on the elections data\n",
    "print('Accuracy on Republican data: ', accuracy_score(y_r, y_predicted_r))\n",
    "\n",
    "# Print accuracy score on the elections data\n",
    "print('Accuracy on Democratic data: ', accuracy_score(y_d, y_predicted_d))"
   ]
  },
  {
   "cell_type": "code",
   "execution_count": 128,
   "metadata": {
    "colab": {
     "base_uri": "https://localhost:8080/"
    },
    "id": "1u4YNYMbTmMe",
    "outputId": "8d66ea9c-ea48-448e-bc58-615f132552bd"
   },
   "outputs": [
    {
     "name": "stdout",
     "output_type": "stream",
     "text": [
      "(909, 7)\n",
      "(782, 7)\n"
     ]
    }
   ],
   "source": [
    "# Display the shape of each parties\n",
    "print(republican_tweets.shape)\n",
    "print(democratic_tweets.shape)"
   ]
  },
  {
   "cell_type": "code",
   "execution_count": 129,
   "metadata": {
    "colab": {
     "base_uri": "https://localhost:8080/",
     "height": 313
    },
    "id": "iyroUfclCy1B",
    "outputId": "f0a5b9a3-373d-4a1c-cb07-37c8fd057edf"
   },
   "outputs": [
    {
     "data": {
      "text/plain": [
       "Text(0.5, 1.0, 'Confusion Matrix on the Republican party')"
      ]
     },
     "execution_count": 129,
     "metadata": {
      "tags": []
     },
     "output_type": "execute_result"
    },
    {
     "data": {
      "image/png": "[encoded data removed]",
      "text/plain": [
       "<Figure size 432x288 with 2 Axes>"
      ]
     },
     "metadata": {
      "needs_background": "light",
      "tags": []
     },
     "output_type": "display_data"
    }
   ],
   "source": [
    "# Display the confusion matrix for Republican\n",
    "cm_R = confusion_matrix(y_r, y_predicted_r)\n",
    "ax = plt.subplot()\n",
    "sns.heatmap(cm_R, annot=True, ax=ax, fmt='g', cmap='Blues')\n",
    "\n",
    "# labels, title and ticks\n",
    "ax.set_xlabel('Predicted sentiment')\n",
    "ax.set_ylabel('True sentiment') \n",
    "ax.set_title('Confusion Matrix on the Republican party')"
   ]
  },
  {
   "cell_type": "markdown",
   "metadata": {
    "id": "A_yYmj126XOR"
   },
   "source": [
    "For the Republican data, there were 139 false positives and 309 false negatives."
   ]
  },
  {
   "cell_type": "code",
   "execution_count": 130,
   "metadata": {
    "colab": {
     "base_uri": "https://localhost:8080/",
     "height": 313
    },
    "id": "mh71suZoqfub",
    "outputId": "6a303617-6a2a-42ec-9642-c9c00331e619"
   },
   "outputs": [
    {
     "data": {
      "text/plain": [
       "Text(0.5, 1.0, 'Confusion Matrix on the Democratic party')"
      ]
     },
     "execution_count": 130,
     "metadata": {
      "tags": []
     },
     "output_type": "execute_result"
    },
    {
     "data": {
      "image/png": "[encoded data removed]",
      "text/plain": [
       "<Figure size 432x288 with 2 Axes>"
      ]
     },
     "metadata": {
      "needs_background": "light",
      "tags": []
     },
     "output_type": "display_data"
    }
   ],
   "source": [
    "# Display the confusion matrix for Democratic\n",
    "cm_D = confusion_matrix(y_d, y_predicted_d)\n",
    "ax = plt.subplot()\n",
    "sns.heatmap(cm_D, annot=True, ax=ax, fmt='g', cmap='Blues')\n",
    "\n",
    "# labels, title and ticks\n",
    "ax.set_xlabel('Predicted sentiment')\n",
    "ax.set_ylabel('True sentiment') \n",
    "ax.set_title('Confusion Matrix on the Democratic party')"
   ]
  },
  {
   "cell_type": "markdown",
   "metadata": {
    "id": "4EK_zJVl6p7L"
   },
   "source": [
    "For the Democratic data, there were 327 false positives and 108 false negatives."
   ]
  },
  {
   "cell_type": "markdown",
   "metadata": {
    "id": "iHh3cem8SwnN"
   },
   "source": [
    "Accuracy was lower for the Democratic data than Republican data. The confusion matrix illustrated that the model had a tendency to predict more towards negative sentiment. Lower accuracy on the elections data compared to the generic data was expected because the model was trained based on the generic tweets. Since the topics from the elections and generic tweets were different, logically it makes sense that the generic tweets data cannot generalize very well to the elections data. Therefore, NLP analytics based on tweets may not be useful for political parties during election campaigns if the tweets are generic. However, it could potentially be useful if the tweets are about elections or political party. For example, training data based on historical tweets about previous elections may give better predictions since it may generalize better to the 2020 elections data."
   ]
  },
  {
   "cell_type": "markdown",
   "metadata": {
    "id": "5TX_MqVAVW2U"
   },
   "source": [
    "### Extracting only the negative sentiment US election tweets"
   ]
  },
  {
   "cell_type": "markdown",
   "metadata": {
    "id": "1zToxbR1VCJV"
   },
   "source": [
    "Subsequently, I have extracted only the data with the negative sentiments, created BoW features, and split this data into training and testing (70/30 repectively). I have selected Logistic Regression, Decision Tree, and XGBoost algorithems to tune the hyperparameters, train on these algorithms, and predict reason for negative sentiments."
   ]
  },
  {
   "cell_type": "code",
   "execution_count": 131,
   "metadata": {
    "colab": {
     "base_uri": "https://localhost:8080/"
    },
    "id": "jCIsBK2VVVu3",
    "outputId": "3446a05c-3344-47a5-fb14-b2b43696e6f1"
   },
   "outputs": [
    {
     "data": {
      "text/plain": [
       "1    1288\n",
       "0    1264\n",
       "Name: sentiment, dtype: int64"
      ]
     },
     "execution_count": 131,
     "metadata": {
      "tags": []
     },
     "output_type": "execute_result"
    }
   ],
   "source": [
    "# Show the distribution of sentiments\n",
    "df_elections.sentiment.value_counts()"
   ]
  },
  {
   "cell_type": "markdown",
   "metadata": {
    "id": "wkTi_XZb759T"
   },
   "source": [
    "The sample size in each class are fairly balanced."
   ]
  },
  {
   "cell_type": "code",
   "execution_count": 132,
   "metadata": {
    "id": "CyLymU9JVf9w"
   },
   "outputs": [],
   "source": [
    "# Extract only the rows with negative sentiments\n",
    "df_negative = df_elections[df_elections.sentiment == 0]"
   ]
  },
  {
   "cell_type": "code",
   "execution_count": 133,
   "metadata": {
    "id": "A6iD3rQfVsSG"
   },
   "outputs": [],
   "source": [
    "# Only keep the relevant columns\n",
    "df_negative = df_negative[['negative_reason', 'cleaned_tweet', 'Republican', 'Democratic', 'Others']]"
   ]
  },
  {
   "cell_type": "code",
   "execution_count": null,
   "metadata": {
    "colab": {
     "base_uri": "https://localhost:8080/"
    },
    "id": "vsK5tcNJVzcW",
    "outputId": "93e6050e-d693-4818-fb3a-ad45f4f930b1"
   },
   "outputs": [
    {
     "data": {
      "text/plain": [
       "covid19           405\n",
       "crime             222\n",
       "corruption        220\n",
       "discrimination    215\n",
       "others            202\n",
       "Name: negative_reason, dtype: int64"
      ]
     },
     "execution_count": 63,
     "metadata": {
      "tags": []
     },
     "output_type": "execute_result"
    }
   ],
   "source": [
    "# Display the types of negative reasons\n",
    "df_negative.negative_reason.value_counts()"
   ]
  },
  {
   "cell_type": "markdown",
   "metadata": {
    "id": "_t65KXb78Opp"
   },
   "source": [
    "There are 5 different negative reasons. Covid-19 is the main reason for negative sentiment."
   ]
  },
  {
   "cell_type": "markdown",
   "metadata": {
    "id": "9wJ5MpFAW0Sf"
   },
   "source": [
    "### Splitting the negative elections tweets into training data (70%) and test data (30%)"
   ]
  },
  {
   "cell_type": "code",
   "execution_count": 135,
   "metadata": {
    "id": "b9BGy443Xbni"
   },
   "outputs": [],
   "source": [
    "# Build the BoW vectorizer\n",
    "vect = CountVectorizer(max_features=3000, ngram_range=(1, 3))\n",
    "vect.fit(df_negative.cleaned_tweet)\n",
    "X = vect.transform(df_negative.cleaned_tweet)\n",
    "\n",
    "# Create a DataFrame\n",
    "X = pd.DataFrame(X.toarray(), columns=vect.get_feature_names())\n",
    "\n",
    "# convert to sparse matrix\n",
    "X = csr_matrix(X)"
   ]
  },
  {
   "cell_type": "code",
   "execution_count": 136,
   "metadata": {
    "id": "APkK3BaaXbnj"
   },
   "outputs": [],
   "source": [
    "# Split the tweets randomly into 70% training and 30% test data.\n",
    "y = df_negative.negative_reason #target variable\n",
    "\n",
    "# Train/test split\n",
    "X_train, X_test, y_train, y_test = train_test_split(X, y, test_size=0.3, random_state=42)"
   ]
  },
  {
   "cell_type": "markdown",
   "metadata": {
    "id": "FVU4jTvlZRbW"
   },
   "source": [
    "### Tuning hyperparameters and training on three classification algorithms"
   ]
  },
  {
   "cell_type": "markdown",
   "metadata": {
    "id": "aVp87IOnaEzF"
   },
   "source": [
    "I have selected Logistic Regression, Decision Tree, and XGBoost classifiers to predict the reason for negative tweets"
   ]
  },
  {
   "cell_type": "markdown",
   "metadata": {
    "id": "ioAr0BqqbKgX"
   },
   "source": [
    "#### 1) Logistic Regression"
   ]
  },
  {
   "cell_type": "code",
   "execution_count": 137,
   "metadata": {
    "id": "uszzF_1caoPM"
   },
   "outputs": [],
   "source": [
    "# Create a model\n",
    "logModel = LogisticRegression(max_iter=1000000)"
   ]
  },
  {
   "cell_type": "code",
   "execution_count": 138,
   "metadata": {
    "colab": {
     "base_uri": "https://localhost:8080/"
    },
    "id": "kYQ_ZrbuaoPM",
    "outputId": "13eada5e-031c-4b8d-cec6-5e328ab27a5b"
   },
   "outputs": [
    {
     "name": "stdout",
     "output_type": "stream",
     "text": [
      "Fitting 3 folds for each of 6 candidates, totalling 18 fits\n"
     ]
    },
    {
     "name": "stderr",
     "output_type": "stream",
     "text": [
      "[Parallel(n_jobs=-1)]: Using backend LokyBackend with 4 concurrent workers.\n",
      "[Parallel(n_jobs=-1)]: Done  18 out of  18 | elapsed:    2.6s finished\n"
     ]
    }
   ],
   "source": [
    "# Define parameter range\n",
    "param_grid = {'penalty' : ['l2'], 'C' : [0.001, 0.1, 10], 'solver' : ['liblinear', 'saga']}\n",
    "\n",
    "# perfom grid search CV\n",
    "clf_lr = GridSearchCV(logModel, param_grid=param_grid, cv=3, verbose=True, n_jobs = -1)\n",
    "\n",
    "best_clf_lr = clf_lr.fit(X_train, y_train)"
   ]
  },
  {
   "cell_type": "code",
   "execution_count": 139,
   "metadata": {
    "colab": {
     "base_uri": "https://localhost:8080/"
    },
    "id": "EgeBOCT_aoPO",
    "outputId": "1a521354-ef5f-4910-800d-85877fe16483"
   },
   "outputs": [
    {
     "data": {
      "text/plain": [
       "{'C': 0.1, 'penalty': 'l2', 'solver': 'saga'}"
      ]
     },
     "execution_count": 139,
     "metadata": {
      "tags": []
     },
     "output_type": "execute_result"
    }
   ],
   "source": [
    "# Get best estimators\n",
    "best_clf_lr.best_params_"
   ]
  },
  {
   "cell_type": "code",
   "execution_count": 140,
   "metadata": {
    "colab": {
     "base_uri": "https://localhost:8080/"
    },
    "id": "GMAl6imXaoPO",
    "outputId": "fa359f80-9565-4742-80c8-2cff2eeec92c"
   },
   "outputs": [
    {
     "name": "stdout",
     "output_type": "stream",
     "text": [
      "Logistic Regression accuracy:  0.3\n",
      "                precision    recall  f1-score   support\n",
      "\n",
      "    corruption       0.00      0.00      0.00        66\n",
      "       covid19       0.29      1.00      0.45       107\n",
      "         crime       0.00      0.00      0.00        74\n",
      "discrimination       1.00      0.11      0.19        66\n",
      "        others       0.00      0.00      0.00        67\n",
      "\n",
      "      accuracy                           0.30       380\n",
      "     macro avg       0.26      0.22      0.13       380\n",
      "  weighted avg       0.25      0.30      0.16       380\n",
      "\n"
     ]
    },
    {
     "name": "stderr",
     "output_type": "stream",
     "text": [
      "/usr/local/lib/python3.6/dist-packages/sklearn/metrics/_classification.py:1272: UndefinedMetricWarning: Precision and F-score are ill-defined and being set to 0.0 in labels with no predicted samples. Use `zero_division` parameter to control this behavior.\n",
      "  _warn_prf(average, modifier, msg_start, len(result))\n"
     ]
    }
   ],
   "source": [
    "# Using the best parameters obtained, determine the accuracy\n",
    "best_clf_lr =  LogisticRegression(C=0.01, penalty='l2', solver='saga', max_iter=1000000)\n",
    "best_clf_lr.fit(X_train, y_train)\n",
    "\n",
    "# Predict the labels\n",
    "y_predicted_lr = best_clf_lr.predict(X_test)\n",
    "\n",
    "# Print accuracy score on the elections data\n",
    "print('Logistic Regression accuracy: ', accuracy_score(y_test, y_predicted_lr))\n",
    "\n",
    "# print classification report \n",
    "print(classification_report(y_test, y_predicted_lr))"
   ]
  },
  {
   "cell_type": "markdown",
   "metadata": {
    "id": "tqorf8Y3bTN5"
   },
   "source": [
    "#### 2) Decision Tree"
   ]
  },
  {
   "cell_type": "code",
   "execution_count": 141,
   "metadata": {
    "id": "GtS4pnqicNAz"
   },
   "outputs": [],
   "source": [
    "# Create a model\n",
    "DT = DecisionTreeClassifier()"
   ]
  },
  {
   "cell_type": "code",
   "execution_count": 142,
   "metadata": {
    "colab": {
     "base_uri": "https://localhost:8080/"
    },
    "id": "727Ie6SBbZ5-",
    "outputId": "1fdf1481-15fa-4eff-eb37-f8f78a4adba3"
   },
   "outputs": [
    {
     "name": "stdout",
     "output_type": "stream",
     "text": [
      "Fitting 3 folds for each of 18 candidates, totalling 54 fits\n"
     ]
    },
    {
     "name": "stderr",
     "output_type": "stream",
     "text": [
      "[Parallel(n_jobs=-1)]: Using backend LokyBackend with 4 concurrent workers.\n",
      "[Parallel(n_jobs=-1)]: Done  54 out of  54 | elapsed:    0.3s finished\n"
     ]
    }
   ],
   "source": [
    "# defining parameter range \n",
    "param_grid = {'ccp_alpha':[0.001, 0.015, 0.1], 'criterion':['gini', 'entropy'], 'max_depth':[2,4,10]}  \n",
    "\n",
    "# Perform Grid Search CV\n",
    "clf_dt = GridSearchCV(DT, param_grid=param_grid, cv=3, verbose = True, n_jobs = -1) \n",
    "  \n",
    "# fitting the model for grid search \n",
    "best_clf_dt = clf_dt.fit(X_train, y_train)"
   ]
  },
  {
   "cell_type": "code",
   "execution_count": 143,
   "metadata": {
    "colab": {
     "base_uri": "https://localhost:8080/"
    },
    "id": "0-duNUYubZ6A",
    "outputId": "e1ce6954-24c7-4ba3-b047-034f8d1c94a1"
   },
   "outputs": [
    {
     "data": {
      "text/plain": [
       "{'ccp_alpha': 0.001, 'criterion': 'entropy', 'max_depth': 4}"
      ]
     },
     "execution_count": 143,
     "metadata": {
      "tags": []
     },
     "output_type": "execute_result"
    }
   ],
   "source": [
    "# Get best estimators\n",
    "best_clf_dt.best_params_"
   ]
  },
  {
   "cell_type": "code",
   "execution_count": 144,
   "metadata": {
    "colab": {
     "base_uri": "https://localhost:8080/"
    },
    "id": "-Jr5OSctbZ6A",
    "outputId": "a2332b5f-b4d0-487e-c904-866aae883c29"
   },
   "outputs": [
    {
     "name": "stdout",
     "output_type": "stream",
     "text": [
      "Decision Tree accuracy:  0.30526315789473685\n",
      "                precision    recall  f1-score   support\n",
      "\n",
      "    corruption       0.00      0.00      0.00        66\n",
      "       covid19       0.29      0.98      0.45       107\n",
      "         crime       0.33      0.01      0.03        74\n",
      "discrimination       0.88      0.11      0.19        66\n",
      "        others       0.50      0.04      0.08        67\n",
      "\n",
      "      accuracy                           0.31       380\n",
      "     macro avg       0.40      0.23      0.15       380\n",
      "  weighted avg       0.39      0.31      0.18       380\n",
      "\n"
     ]
    }
   ],
   "source": [
    "# Using the best parameters obtained, determine the accuracy\n",
    "best_clf_dt =  DecisionTreeClassifier(ccp_alpha=0.001, criterion='entropy', max_depth=4)\n",
    "best_clf_dt.fit(X_train, y_train)\n",
    "\n",
    "# Predict the labels\n",
    "y_predicted_dt = best_clf_dt.predict(X_test) \n",
    "\n",
    "# Print accuracy score on the elections data\n",
    "print('Decision Tree accuracy: ', accuracy_score(y_test, y_predicted_dt))\n",
    "\n",
    "# print classification report \n",
    "print(classification_report(y_test, y_predicted_dt))"
   ]
  },
  {
   "cell_type": "markdown",
   "metadata": {
    "id": "bvHO5KlJfPdT"
   },
   "source": [
    "#### 3) XGBoost"
   ]
  },
  {
   "cell_type": "code",
   "execution_count": 145,
   "metadata": {
    "id": "D8eztskriDmi"
   },
   "outputs": [],
   "source": [
    "# Create a model\n",
    "XGB = xgboost.XGBClassifier()"
   ]
  },
  {
   "cell_type": "code",
   "execution_count": 146,
   "metadata": {
    "colab": {
     "base_uri": "https://localhost:8080/"
    },
    "id": "yYFPrjtmiDmi",
    "outputId": "88eeeccd-5cbb-4b7a-a11b-c6478dfea0e2"
   },
   "outputs": [
    {
     "name": "stdout",
     "output_type": "stream",
     "text": [
      "Fitting 3 folds for each of 72 candidates, totalling 216 fits\n"
     ]
    },
    {
     "name": "stderr",
     "output_type": "stream",
     "text": [
      "[Parallel(n_jobs=-1)]: Using backend LokyBackend with 4 concurrent workers.\n",
      "[Parallel(n_jobs=-1)]: Done  42 tasks      | elapsed:   23.0s\n",
      "[Parallel(n_jobs=-1)]: Done 192 tasks      | elapsed:  2.9min\n",
      "[Parallel(n_jobs=-1)]: Done 216 out of 216 | elapsed:  3.5min finished\n"
     ]
    }
   ],
   "source": [
    "# defining parameter range \n",
    "param_grid = {\"learning_rate\": [0.05, 0.15, 0.30], \"max_depth\": [3,5,15], \"min_child_weight\": [1, 3], \"gamma\": [0.0, 0.4],\n",
    "              \"colsample_bytree\" : [0.3, 0.7]}\n",
    "\n",
    "# Perform Grid Search CV\n",
    "clf_XGB = GridSearchCV(XGB, param_grid=param_grid, cv=3, verbose = True, n_jobs = -1) \n",
    "  \n",
    "# fitting the model for grid search \n",
    "best_clf_XGB = clf_XGB.fit(X_train, y_train)"
   ]
  },
  {
   "cell_type": "code",
   "execution_count": 147,
   "metadata": {
    "colab": {
     "base_uri": "https://localhost:8080/"
    },
    "id": "avAoSdxWiDmi",
    "outputId": "3d21681c-5125-468c-e363-cec69372348f"
   },
   "outputs": [
    {
     "data": {
      "text/plain": [
       "{'colsample_bytree': 0.3,\n",
       " 'gamma': 0.4,\n",
       " 'learning_rate': 0.05,\n",
       " 'max_depth': 5,\n",
       " 'min_child_weight': 1}"
      ]
     },
     "execution_count": 147,
     "metadata": {
      "tags": []
     },
     "output_type": "execute_result"
    }
   ],
   "source": [
    "# Get best estimators\n",
    "best_clf_XGB.best_params_"
   ]
  },
  {
   "cell_type": "code",
   "execution_count": 148,
   "metadata": {
    "colab": {
     "base_uri": "https://localhost:8080/"
    },
    "id": "4pWU8W75iDmj",
    "outputId": "3b51e23d-7155-4f4d-b708-3dc31745372e"
   },
   "outputs": [
    {
     "name": "stdout",
     "output_type": "stream",
     "text": [
      "XGBoost accuracy:  0.3236842105263158\n",
      "                precision    recall  f1-score   support\n",
      "\n",
      "    corruption       0.42      0.08      0.13        66\n",
      "       covid19       0.31      0.92      0.46       107\n",
      "         crime       0.38      0.07      0.11        74\n",
      "discrimination       0.47      0.11      0.17        66\n",
      "        others       0.42      0.12      0.19        67\n",
      "\n",
      "      accuracy                           0.32       380\n",
      "     macro avg       0.40      0.26      0.21       380\n",
      "  weighted avg       0.39      0.32      0.24       380\n",
      "\n"
     ]
    }
   ],
   "source": [
    "# Using the best parameters obtained, determine the accuracy\n",
    "best_clf_XGB = xgboost.XGBClassifier(colsample_bytree=0.3, gamma=0.4, learning_rate=0.05, max_depth=5, min_child_weight=1)\n",
    "best_clf_XGB.fit(X_train, y_train)\n",
    "\n",
    "# Predict the labels\n",
    "y_predicted_XGB = best_clf_XGB.predict(X_test) \n",
    "\n",
    "# Print accuracy score on the elections data\n",
    "print('XGBoost accuracy: ', accuracy_score(y_test, y_predicted_XGB))\n",
    "\n",
    "# print classification report \n",
    "print(classification_report(y_test, y_predicted_XGB))"
   ]
  },
  {
   "cell_type": "markdown",
   "metadata": {
    "id": "mez0Pl739tbf"
   },
   "source": [
    "All three models had a significantly low accuracy score. The best out of the three was XGBoost, which had a score of 0.32. Therefore, this algorithm was selected to make predictions."
   ]
  },
  {
   "cell_type": "markdown",
   "metadata": {
    "id": "a4iakodgjuit"
   },
   "source": [
    "### Predicted reason vs. True reason for negative sentiment tweets"
   ]
  },
  {
   "cell_type": "code",
   "execution_count": 149,
   "metadata": {
    "colab": {
     "base_uri": "https://localhost:8080/"
    },
    "id": "oFR0_UskmbXg",
    "outputId": "d3a85edf-a302-482e-e54a-faf72f3f8bb4"
   },
   "outputs": [
    {
     "data": {
      "text/plain": [
       "covid19           107\n",
       "crime              74\n",
       "others             67\n",
       "discrimination     66\n",
       "corruption         66\n",
       "Name: negative_reason, dtype: int64"
      ]
     },
     "execution_count": 149,
     "metadata": {
      "tags": []
     },
     "output_type": "execute_result"
    }
   ],
   "source": [
    "# Show the value counts of different negative reasons.\n",
    "y_test.value_counts()"
   ]
  },
  {
   "cell_type": "code",
   "execution_count": 150,
   "metadata": {
    "colab": {
     "base_uri": "https://localhost:8080/",
     "height": 365
    },
    "id": "ctb4TD0laoPO",
    "outputId": "7ed98075-044d-4c01-e41b-c9022cf62be9"
   },
   "outputs": [
    {
     "data": {
      "text/plain": [
       "Text(0.5, 1.0, 'Confusion Matrix on the reason for negative sentiment tweets')"
      ]
     },
     "execution_count": 150,
     "metadata": {
      "tags": []
     },
     "output_type": "execute_result"
    },
    {
     "data": {
      "image/png": "[encoded data removed]",
      "text/plain": [
       "<Figure size 432x288 with 2 Axes>"
      ]
     },
     "metadata": {
      "needs_background": "light",
      "tags": []
     },
     "output_type": "display_data"
    }
   ],
   "source": [
    "# Display the confusion matrix\n",
    "cm = confusion_matrix(y_test, y_predicted_XGB)\n",
    "ax = plt.subplot()\n",
    "sns.heatmap(cm, annot=True, ax=ax, fmt='g', cmap='Blues')\n",
    "\n",
    "# labels, title and ticks\n",
    "labels = ['corruption', 'covid19', 'crime', 'discrimination', 'others']\n",
    "ax.set_xticklabels(labels)\n",
    "ax.set_yticklabels(labels)\n",
    "ax.set_xlabel('Predicted reason')\n",
    "ax.set_ylabel('True reason') \n",
    "plt.xticks(rotation=50)\n",
    "plt.yticks(rotation=50)\n",
    "ax.set_title('Confusion Matrix on the reason for negative sentiment tweets')"
   ]
  },
  {
   "cell_type": "markdown",
   "metadata": {
    "id": "A83zv7Tz-IMr"
   },
   "source": [
    "As illustrated in the above confusion matrix, it is evident that the model is classifying most of the tweets as Covid-19. This inaccurate predictions may be due to the fact that Covid-19 is the most prominant class compared to the other classes."
   ]
  },
  {
   "cell_type": "markdown",
   "metadata": {
    "id": "68f0Pq3PqKke"
   },
   "source": [
    "## 5) Results"
   ]
  },
  {
   "cell_type": "markdown",
   "metadata": {
    "id": "jvqKvy3uKhW4"
   },
   "source": [
    "### Results of Analysis and discussion"
   ]
  },
  {
   "cell_type": "markdown",
   "metadata": {
    "id": "8uV2zULm_Oax"
   },
   "source": [
    "After training and testing the generic tweets data, I obtained the best accuracy of 0.954 for Logistic Regression on Bag-of-Words method. Evaluating this model on the 2020 US Elections data resulted in significantly lower accuracy (about ~0.5). I have also tried to predict the reasons for negative sentiment for both parties. The best model was XGBoost, although it had an accuracy of 0.32. Based on the outputs of my models, it can be concluded that public opinion on Twitter may not help gain insight about the US political landscape in 2020. As the accuracy scores and confusion matrix revealed, the model is very biased toward one specific class. For the first model, it was predicting many elections tweets as negative. For the second model, it was predicting majority of the reasons for negative sentiment as Covid-19. Perhaps the reasoning behind why the predictions are biased toward one class could be due to imbalanced classes. As Covid-19 was the majority, the model was trying to predict almost every tweets as Covid-19 (i.e. 321 out of 380 tweets, or 84.5% were being classified as Covid-19). In the case of elections tweets, Republican party had majority of negative tweets whereas Democratic party had slightly more positive tweets. As the model had a tendency to favour classifying the tweets as negative, this may explain why Republicans had higher accuracy (0.51) compared to Democrats (0.44). Even with hyperparameter tuning, the model performance did not improve much. Since including large range of hyperparameters had caused extremely slow runtime for me, I had to limit the ranges so that cells can run faster. However, perhaps one way to improve the accuracy of my models could be to include more range of parameters when performing hyperparameter tuning. Another method could be to use Artificial Neural networks or LSTM models because they tend of work well with NLP-based classification data. If my computer had better computing resources, I would try ANN and LSTM to improve the performance. <br>\n",
    "Another suggestion would be to add an extra column that provides the values of sentiments that range from negative 5 to positive 5, where the larger the number, the more intense the sentiment. For example, the word \"good\" may have value of 3 while \"great\" may have value of 5. From the corpus that contains sentiment values for each words, we could look at each word in the tweets and determine the intensity of the words. Since having binary (negative or positive) may not be useful when it comes to neutral tweets, this technique could be useful in predicting more accurately and precisely tweets that reflect the true sentiments."
   ]
  },
  {
   "cell_type": "markdown",
   "metadata": {
    "id": "txbzCEQ_Deku"
   },
   "source": [
    "### How each party is viewed in the public eye based on the sentiment value"
   ]
  },
  {
   "cell_type": "markdown",
   "metadata": {
    "id": "-9q-lQ21-0jF"
   },
   "source": [
    "Word clouds may potentially give us some insights into how each party is viewed in the public eye since they may reveal the essential topics. I have created a word cloud for each parties, removing the most common or obvious words, such as 'Trump', 'Biden', 'election', etc."
   ]
  },
  {
   "cell_type": "code",
   "execution_count": null,
   "metadata": {
    "colab": {
     "base_uri": "https://localhost:8080/",
     "height": 411
    },
    "id": "tUv35kn401OH",
    "outputId": "50b4fefe-8e2f-4efd-806b-f34086b84b40"
   },
   "outputs": [
    {
     "data": {
      "image/png": "[encoded data removed]",
      "text/plain": [
       "<Figure size 432x288 with 1 Axes>"
      ]
     },
     "metadata": {
      "needs_background": "light",
      "tags": []
     },
     "output_type": "display_data"
    },
    {
     "data": {
      "image/png": "[encoded data removed]",
      "text/plain": [
       "<Figure size 432x288 with 1 Axes>"
      ]
     },
     "metadata": {
      "needs_background": "light",
      "tags": []
     },
     "output_type": "display_data"
    }
   ],
   "source": [
    "# combine all the tweets into one string\n",
    "combined_r = ''\n",
    "for tweet in republican_tweets['cleaned_tweet']:\n",
    "    combined_r = combined_r + '' + tweet\n",
    "combined_d = ''\n",
    "for tweet in democratic_tweets['cleaned_tweet']:\n",
    "    combined_d = combined_d + '' + tweet\n",
    "\n",
    "# Common/obvious words such as 'trump' and 'election' they will not be informative so remove them from the word cloud.\n",
    "stop_words = set(STOPWORDS)\n",
    "stop_words.update(['brt', 'trump', 'realdonaldtrump', 'donald trump', 'donald', 'republican', 'biden', 'joebiden', 'vote', 'election', 'bidenharris', 'democrat', 'bidenharrisbrt',\n",
    "                   'democrats', 'trumps', 'joe'])\n",
    "\n",
    "# Generate the word cloud. \n",
    "cloud_republican = WordCloud(stopwords=stop_words).generate(combined_r)\n",
    "cloud_democratic = WordCloud(stopwords=stop_words).generate(combined_d)\n",
    "\n",
    "# Display the word cloud\n",
    "plt.imshow(cloud_republican, interpolation='bilinear')\n",
    "plt.axis('off')\n",
    "plt.title('How Republican party is viewed in the public eye')\n",
    "plt.show()\n",
    "\n",
    "plt.imshow(cloud_democratic, interpolation='bilinear')\n",
    "plt.axis('off')\n",
    "plt.title('How Democratic party is viewed in the public eye')\n",
    "plt.show()"
   ]
  },
  {
   "cell_type": "markdown",
   "metadata": {
    "id": "ysp57CLLLYyF"
   },
   "source": [
    "For the Republican party, the word that stand out the most is \"Covid\". Words such as \"American\", \"people\", and \"MAGA\" (which stands for \"Make America Great Again\") is also noticeable, which may be neutral or perhaps positive. I also see \"lie\", which suggests a negative sentiment. For the Democratic party, relevant words seem to be \"voted\" and \"win\", implying a positive sentiment."
   ]
  }
 ],
 "metadata": {
  "colab": {
   "collapsed_sections": [],
   "machine_shape": "hm",
   "name": "jeong_1005346074_assignment3.ipynb",
   "provenance": [],
   "toc_visible": true
  },
  "kernelspec": {
   "display_name": "Python 3",
   "language": "python",
   "name": "python3"
  },
  "language_info": {
   "codemirror_mode": {
    "name": "ipython",
    "version": 3
   },
   "file_extension": ".py",
   "mimetype": "text/x-python",
   "name": "python",
   "nbconvert_exporter": "python",
   "pygments_lexer": "ipython3",
   "version": "3.7.6"
  }
 },
 "nbformat": 4,
 "nbformat_minor": 1
}
